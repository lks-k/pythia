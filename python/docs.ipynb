{
 "cells": [
  {
   "cell_type": "markdown",
   "metadata": {},
   "source": [
    "# Probros Docs"
   ]
  },
  {
   "cell_type": "code",
   "execution_count": 1,
   "metadata": {},
   "outputs": [],
   "source": [
    "import numpy as np\n",
    "import probros as pr\n",
    "np.random.seed(0)"
   ]
  },
  {
   "cell_type": "markdown",
   "metadata": {},
   "source": [
    "## Meta PPL\n",
    "\n",
    "We propose following syntax for writing general probabilistic programs.\n",
    "\n",
    "(Let's see if we need to change this.)\n",
    "\n",
    "At this point, a probabilistic program is a **single python function**.\n",
    "\n",
    "```\n",
    "probabilistic program ::=\n",
    "    @pr.probabilistic_program\n",
    "    def <name>(*arg):\n",
    "        S\n",
    "\n",
    "E ::=                               Expression\n",
    "    c                                   constant\n",
    "    x                                   variable\n",
    "\n",
    "    [E_1, ..., E_n]                     array literal\n",
    "    x[E_1, ..., E_n]                    array element\n",
    "\n",
    "    uop E                               unary operation, uop in [not, -]\n",
    "    E_1 op E_2                          binary operation, op in [+, -, *, /, **, <,  <=, >, >=, ==, !=, and, or]\n",
    "    f(E_1, ..., E_n)                    function call, f in ??\n",
    "\n",
    "    sample(E, d(E_1, ..., E_n))         sample expression\n",
    "    observe(E_1, E_2, d(E_1, ..., E_n)) observe expression\n",
    "    observe(E_1, E_2)                   boolean observe expression\n",
    "    factor(E)                           factor expression\n",
    "\n",
    "/*\n",
    "    or less restrictive\n",
    "    sample(E_1, E_2)                    sample expression\n",
    "    observe(E_1, E_2, E_3)              observe expression\n",
    "*/\n",
    "\n",
    "L ::=                               Assignment Target\n",
    "    x                                   variable\n",
    "    x[E_1, ..., E_n]                    indexed assignment\n",
    "\n",
    "S ::=                               Statement\n",
    "    L = E                               assignment\n",
    "    x = Vector(n, ?t, ?E)               vector constructor with size n and optional type and fill value\n",
    "    x = Array(shape, ?t, ?E)            array constructor with shape n and optional type and fill value\n",
    "\n",
    "    S1                                  sequence\n",
    "    S2\n",
    "\n",
    "    if E:                               if statement\n",
    "        S1\n",
    "    else:\n",
    "        S2\n",
    "    \n",
    "    for i in range(m,n) :               for loop\n",
    "        S\n",
    "\n",
    "    while E:                            while loop\n",
    "        S\n",
    "```"
   ]
  },
  {
   "cell_type": "markdown",
   "metadata": {},
   "source": [
    "The core probabilistic constructs are the following:\n",
    "\n",
    "`sample(address: str, distribution: Distribution)`\n",
    "\n",
    "`observe(value, address: str = None, distribution: Distribution = Dirac(True))`\n",
    "\n",
    "`factor(logfactor, address: str = None)`"
   ]
  },
  {
   "cell_type": "markdown",
   "metadata": {},
   "source": [
    "The `@pr.probabilistic_program` decorator, wraps a python function and traces all sample, observe, and factor statements during an execution."
   ]
  },
  {
   "cell_type": "markdown",
   "metadata": {},
   "source": [
    "### Why do we need addresses?\n",
    "\n",
    "**Each execution of sample, observe, and factor statements should have an unique address!**"
   ]
  },
  {
   "cell_type": "code",
   "execution_count": 2,
   "metadata": {},
   "outputs": [],
   "source": [
    "# Consider a program of a geometric distribution\n",
    "@pr.probabilistic_program\n",
    "def geometric(p: float):\n",
    "    i = 0\n",
    "    while True:\n",
    "        b = pr.sample(f\"b[{i}]\", pr.Bernoulli(p))\n",
    "        if b == 1:\n",
    "            break\n",
    "        i += 1\n",
    "    return i"
   ]
  },
  {
   "cell_type": "code",
   "execution_count": 3,
   "metadata": {},
   "outputs": [
    {
     "data": {
      "text/plain": [
       "(0,\n",
       " -0.6931471805599453,\n",
       " Trace(input=((0.5,), {}))\n",
       " 0.: {'address': 'b[0]', 'kind': 'sample', 'value': 1, 'logprob': -0.6931471805599453, 'distribution': Bernoulli(p=0.5)}\n",
       " retval=0\n",
       " logprob: -0.6931471805599453)"
      ]
     },
     "execution_count": 3,
     "metadata": {},
     "output_type": "execute_result"
    }
   ],
   "source": [
    "retval, logprob, trace = geometric(0.5)\n",
    "retval, logprob, trace"
   ]
  },
  {
   "cell_type": "code",
   "execution_count": 4,
   "metadata": {},
   "outputs": [
    {
     "data": {
      "text/plain": [
       "{'b[0]': {'address': 'b[0]',\n",
       "  'kind': 'sample',\n",
       "  'value': 1,\n",
       "  'logprob': -0.6931471805599453,\n",
       "  'distribution': Bernoulli(p=0.5)}}"
      ]
     },
     "execution_count": 4,
     "metadata": {},
     "output_type": "execute_result"
    }
   ],
   "source": [
    "trace.entries_by_address()"
   ]
  },
  {
   "cell_type": "markdown",
   "metadata": {},
   "source": [
    "Translation to Pyro would look like this, where **we need addresses**:\n",
    "```\n",
    "import pyro\n",
    "import pyro.distributions as dist\n",
    "def geometric(p: float):\n",
    "    i = 0\n",
    "    while True:\n",
    "        b = pyro.sample(f\"b[{i}]\", dist.Bernoulli(p))\n",
    "        if b == 1:\n",
    "            break\n",
    "        i += 1\n",
    "    return i\n",
    "```\n",
    "\n",
    "The same program with simple \"auto-generated\" addresses is invalid:\n",
    "```\n",
    "def geometric(p: float):\n",
    "    i = 0\n",
    "    while True:\n",
    "        b = pyro.sample(\"b\", dist.Bernoulli(p))\n",
    "        if b == 1:\n",
    "            break\n",
    "        i += 1\n",
    "    return i\n",
    "```\n",
    "Pyro requires that you do not override values at addresses.\n",
    "\n",
    "The same goes for Gen:\n",
    "\n",
    "```\n",
    "using Gen\n",
    "function geometric(p: Float64):\n",
    "    i = 0\n",
    "    while true\n",
    "        b = {\"b\"=>i} ~ bernoulli(p)\n",
    "        if b == 1\n",
    "            break\n",
    "        end\n",
    "        i += 1\n",
    "    end\n",
    "    return i\n",
    "end\n",
    "```\n",
    "\n",
    "In order to not have to use f-strings, we can use `IndexedAddress(\"b\",i)` instead, which can be translated to `f\"b[{i}]` or `\"b\"=>i` depending on translation target.\n",
    "\n",
    "Furthermore, the trace generated by `@pr.probabilistic_program` also uses the addresses.\n",
    "\n",
    "Note that if you do not care about the translation to address-based PPLs and only care about the return values of a program, you may set addresses to `None` or a constant string.\n",
    "However, this is not recommended."
   ]
  },
  {
   "cell_type": "markdown",
   "metadata": {},
   "source": [
    "### @pr.probabilistic_program\n",
    "\n",
    "We can use the traces generated by running a function wrapped with `@pr.probabilistic_program` to make quick sanity checks.\n",
    "\n",
    "It returns `retval, logprob, trace`: the return value, joint log probability, and trace (a list of dictionaries, one entry for each sample/observe/factor), respectively."
   ]
  },
  {
   "cell_type": "markdown",
   "metadata": {},
   "source": [
    "#### Example 1"
   ]
  },
  {
   "cell_type": "code",
   "execution_count": 5,
   "metadata": {},
   "outputs": [],
   "source": [
    "@pr.probabilistic_program\n",
    "def coin_flips(data):\n",
    "    p = pr.sample(\"p\", pr.Uniform(0, 1))\n",
    "    for i in range(len(data)):\n",
    "        pr.observe(data[i], f\"flip_{i}\", pr.Bernoulli(p))\n",
    "    return p\n",
    "\n",
    "data = np.array([0,0,1,1,1])"
   ]
  },
  {
   "cell_type": "code",
   "execution_count": 6,
   "metadata": {},
   "outputs": [
    {
     "data": {
      "image/png": "[encoded data removed]",
      "text/plain": [
       "<Figure size 800x400 with 2 Axes>"
      ]
     },
     "metadata": {},
     "output_type": "display_data"
    }
   ],
   "source": [
    "# We can make a few draws, and plot the result\n",
    "import matplotlib.pyplot as plt\n",
    "samples = [coin_flips(data)[:2] for _ in range(1000)]\n",
    "samples = sorted(samples) # sort by p\n",
    "\n",
    "fig, ax = plt.subplots(1, 2, figsize=(8,4))\n",
    "ps = np.array([s[0] for s in samples])\n",
    "logprobs = np.array([s[1] for s in samples])\n",
    "ax[0].plot(ps, np.exp(logprobs))\n",
    "ax[0].set_xlabel(\"p\")\n",
    "ax[0].set_ylabel(\"Unnormalized Probability\")\n",
    "ax[0].set_title(\"Joint Probability Density Prob(p, Y=data)\")\n",
    "ax[1].plot(ps, np.exp(pr.Beta(np.sum(data)+1,np.sum(1-data)+1)._logprob(ps)), c=\"tab:orange\")\n",
    "ax[1].set_xlabel(\"p\")\n",
    "ax[1].set_ylabel(\"Normalized probability\")\n",
    "ax[1].set_title(\"True Posterior Density\")\n",
    "plt.show()"
   ]
  },
  {
   "cell_type": "code",
   "execution_count": 7,
   "metadata": {},
   "outputs": [
    {
     "name": "stderr",
     "output_type": "stream",
     "text": [
      "100%|██████████| 10000/10000 [00:02<00:00, 4017.58it/s]"
     ]
    },
    {
     "name": "stdout",
     "output_type": "stream",
     "text": [
      "p:\n",
      "  E[X] ≈ 0.5701097665357318\n",
      "  E[(X - mu)^2] ≈ 0.030683259526015957\n",
      "vs 0.5714285714285714 and 0.030612244897959183\n"
     ]
    },
    {
     "name": "stderr",
     "output_type": "stream",
     "text": [
      "\n"
     ]
    }
   ],
   "source": [
    "pr.estimate_moments(10000, 2, coin_flips, data) # uses addresses\n",
    "a, b = np.sum(data)+1, np.sum(1-data)+1\n",
    "print(\"vs\", a / (a+b), \"and\", a*b/((a+b)**2 * (a+b+1)))"
   ]
  },
  {
   "cell_type": "markdown",
   "metadata": {},
   "source": [
    "#### Example 2"
   ]
  },
  {
   "cell_type": "code",
   "execution_count": 8,
   "metadata": {},
   "outputs": [
    {
     "name": "stdout",
     "output_type": "stream",
     "text": [
      "0.4281 vs 0.42857142857142866\n"
     ]
    }
   ],
   "source": [
    "p = 0.7\n",
    "X = np.array([geometric(p)[0] for _ in range(10_000)])\n",
    "print(X.mean(), \"vs\", (1-p) / p)"
   ]
  },
  {
   "cell_type": "markdown",
   "metadata": {},
   "source": [
    "#### Example 3"
   ]
  },
  {
   "cell_type": "code",
   "execution_count": 9,
   "metadata": {},
   "outputs": [],
   "source": [
    "@pr.probabilistic_program\n",
    "def linear_regression(x, y):\n",
    "    intercept = pr.sample(\"intercept\", pr.Normal(0, 3))\n",
    "    slope = pr.sample(\"slope\", pr.Normal(0, 3))\n",
    "\n",
    "    for i in range(len(x)):\n",
    "        pr.observe(y[i], f\"y_{i}\", pr.Normal(slope * x[i] + intercept, 1.))"
   ]
  },
  {
   "cell_type": "code",
   "execution_count": 10,
   "metadata": {},
   "outputs": [],
   "source": [
    "x = np.array([-1., -0.5, 0.0, 0.5, 1.0])\n",
    "y = np.array([-3.2, -1.8, -0.5, -0.2, 1.5])\n",
    "\n",
    "true_intercept_sigma_posterior = np.sqrt(1 / (1/3**2 + len(x)))\n",
    "true_slope_sigma_posterior = np.sqrt(1 / (1/3**2 + x.dot(x)))\n",
    "\n",
    "true_intercept_mean_posterior = (0/3**2 + sum(y)) * true_intercept_sigma_posterior**2\n",
    "true_slope_mean_posterior = (0/3**2 + x.dot(y)) * true_slope_sigma_posterior**2\n"
   ]
  },
  {
   "cell_type": "code",
   "execution_count": 11,
   "metadata": {},
   "outputs": [
    {
     "data": {
      "text/plain": [
       "(-0.812914496623212, 2.042525750642266)"
      ]
     },
     "execution_count": 11,
     "metadata": {},
     "output_type": "execute_result"
    }
   ],
   "source": [
    "samples = [linear_regression(x,y) for _ in range(10_000)]\n",
    "traces = [trace.entries_by_address() for retval, logprob, trace in samples]\n",
    "lps = np.array([logprob for retval, logprob, trace in samples])\n",
    "p = np.exp(lps)\n",
    "p = p / p.sum()\n",
    "\n",
    "slope = np.array([trace[\"slope\"][\"value\"] for trace in traces])\n",
    "intercept = np.array([trace[\"intercept\"][\"value\"] for trace in traces])\n",
    "\n",
    "p.dot(intercept), p.dot(slope)"
   ]
  },
  {
   "cell_type": "code",
   "execution_count": 12,
   "metadata": {},
   "outputs": [
    {
     "name": "stderr",
     "output_type": "stream",
     "text": [
      "100%|██████████| 10000/10000 [00:02<00:00, 3779.17it/s]"
     ]
    },
    {
     "name": "stdout",
     "output_type": "stream",
     "text": [
      "intercept:\n",
      "  E[X] ≈ -0.8008501442677514\n",
      "  E[(X - mu)^2] ≈ 0.18908281845025687\n",
      "slope:\n",
      "  E[X] ≈ 2.0238184210148535\n",
      "  E[(X - mu)^2] ≈ 0.3850884147106431\n"
     ]
    },
    {
     "name": "stderr",
     "output_type": "stream",
     "text": [
      "\n"
     ]
    }
   ],
   "source": [
    "pr.estimate_moments(10_000, 2, linear_regression, x, y)"
   ]
  },
  {
   "cell_type": "code",
   "execution_count": 13,
   "metadata": {},
   "outputs": [
    {
     "data": {
      "text/plain": [
       "(-0.8217391304347826, 0.1956521739130435)"
      ]
     },
     "execution_count": 13,
     "metadata": {},
     "output_type": "execute_result"
    }
   ],
   "source": [
    "true_intercept_mean_posterior, true_intercept_sigma_posterior ** 2"
   ]
  },
  {
   "cell_type": "code",
   "execution_count": 14,
   "metadata": {},
   "outputs": [
    {
     "data": {
      "text/plain": [
       "(2.106382978723404, 0.38297872340425526)"
      ]
     },
     "execution_count": 14,
     "metadata": {},
     "output_type": "execute_result"
    }
   ],
   "source": [
    "true_slope_mean_posterior, true_slope_sigma_posterior ** 2"
   ]
  },
  {
   "cell_type": "markdown",
   "metadata": {},
   "source": [
    "### Boolean Observes\n",
    "\n",
    "In discrete models it is often the case that you do want to observe that a predicate is true.\n",
    "\n",
    "We can write this with `observe(predicate)`, which is equivalent to observing from a Dirac distribution `observe(predicate), None, Dirac(True))`."
   ]
  },
  {
   "cell_type": "markdown",
   "metadata": {},
   "source": [
    "#### Example"
   ]
  },
  {
   "cell_type": "code",
   "execution_count": 15,
   "metadata": {},
   "outputs": [],
   "source": [
    "@pr.probabilistic_program\n",
    "def Burglary():\n",
    "    earthquake = pr.sample(\"earthquake\", pr.Bernoulli(0.0001))\n",
    "    burglary = pr.sample(\"burglary\", pr.Bernoulli(0.001))\n",
    "    alarm = earthquake or burglary\n",
    "    if earthquake:\n",
    "        phoneWorking = pr.sample(\"phoneWorking\", pr.Bernoulli(0.7))\n",
    "    else:\n",
    "        phoneWorking = pr.sample(\"phoneWorking\", pr.Bernoulli(0.99))\n",
    "    if alarm:\n",
    "        if earthquake:\n",
    "            maryWakes = pr.sample(\"maryWakes\", pr.Bernoulli(0.8))\n",
    "        else:\n",
    "            maryWakes = pr.sample(\"maryWakes\", pr.Bernoulli(0.6))\n",
    "    else:\n",
    "        maryWakes = pr.sample(\"maryWakes\", pr.Bernoulli(0.2))\n",
    "\n",
    "    called = maryWakes and phoneWorking\n",
    "    pr.observe(called) # == observe(called, None, Dirac(True))\n",
    "\n",
    "    return burglary"
   ]
  },
  {
   "cell_type": "markdown",
   "metadata": {},
   "source": [
    "Observing a Dirac distribution easily leads to traces with probability 0."
   ]
  },
  {
   "cell_type": "code",
   "execution_count": 16,
   "metadata": {},
   "outputs": [
    {
     "data": {
      "text/plain": [
       "Trace(input=((), {}))\n",
       "0.: {'address': 'earthquake', 'kind': 'sample', 'value': 0, 'logprob': -0.00010000500033335834, 'distribution': Bernoulli(p=0.0001)}\n",
       "1.: {'address': 'burglary', 'kind': 'sample', 'value': 0, 'logprob': -0.0010005003335835335, 'distribution': Bernoulli(p=0.001)}\n",
       "2.: {'address': 'phoneWorking', 'kind': 'sample', 'value': 1, 'logprob': -0.01005033585350145, 'distribution': Bernoulli(p=0.99)}\n",
       "3.: {'address': 'maryWakes', 'kind': 'sample', 'value': 1, 'logprob': -1.6094379124341003, 'distribution': Bernoulli(p=0.2)}\n",
       "4.: {'address': 'observe_4', 'kind': 'observe', 'value': 1, 'logprob': 0.0, 'distribution': Dirac(value=True)}\n",
       "retval=0\n",
       "logprob: -1.6205887536215187"
      ]
     },
     "execution_count": 16,
     "metadata": {},
     "output_type": "execute_result"
    }
   ],
   "source": [
    "Burglary()[-1]"
   ]
  },
  {
   "cell_type": "markdown",
   "metadata": {},
   "source": [
    "## Distributions\n",
    "\n",
    "The distributions backend provides classes that wraps `scipy.stats` functions into following class structure:\n",
    "\n",
    "```\n",
    "class Distribution:\n",
    "    def sample(self, size=None):\n",
    "        raise NotImplementedError\n",
    "    \n",
    "    def _logprob(self, value):\n",
    "        raise NotImplementedError\n",
    "```\n",
    "\n",
    "These classes are generated automatically with `scipy_distributions_gen.py.`\n",
    "\n",
    "Currently, we have following distributions:\n",
    "- Beta\n",
    "- Cauchy\n",
    "- Exponential\n",
    "- Gamma\n",
    "- HalfCauchy\n",
    "- HalfNormal\n",
    "- InverseGamma\n",
    "- Normal\n",
    "- StudentT\n",
    "- Uniform\n",
    "- Bernoulli\n",
    "- Binomial\n",
    "- DiscreteUniform\n",
    "- Geometric\n",
    "- HyperGeometric\n",
    "- Poisson\n",
    "- Dirichlet\n",
    "- MultivariateNormal\n",
    "\n",
    "More can be easily added.\n",
    "\n",
    "Dirac is a custom distribution."
   ]
  },
  {
   "cell_type": "markdown",
   "metadata": {},
   "source": [
    "### Vectorization"
   ]
  },
  {
   "cell_type": "code",
   "execution_count": 17,
   "metadata": {},
   "outputs": [
    {
     "data": {
      "text/plain": [
       "array([-0.47287969,  0.46006871, -2.13665468, -0.69442032,  0.43982269,\n",
       "        0.80403728,  0.69551301, -2.23771063, -0.19555175, -0.86151932])"
      ]
     },
     "execution_count": 17,
     "metadata": {},
     "output_type": "execute_result"
    }
   ],
   "source": [
    "# With the `size` argument we can generate multiple samples at once.\n",
    "d = pr.Normal(0.,1.)\n",
    "d.sample(size=10)"
   ]
  },
  {
   "cell_type": "code",
   "execution_count": 18,
   "metadata": {},
   "outputs": [
    {
     "data": {
      "text/plain": [
       "array([[ 0.06347031, -0.36607587],\n",
       "       [ 0.13478719,  0.2589199 ]])"
      ]
     },
     "execution_count": 18,
     "metadata": {},
     "output_type": "execute_result"
    }
   ],
   "source": [
    "x = d.sample(size=(2,2))\n",
    "x"
   ]
  },
  {
   "cell_type": "code",
   "execution_count": 19,
   "metadata": {},
   "outputs": [
    {
     "data": {
      "text/plain": [
       "array([[-0.92095277, -0.9859443 ],\n",
       "       [-0.92802233, -0.95245829]])"
      ]
     },
     "execution_count": 19,
     "metadata": {},
     "output_type": "execute_result"
    }
   ],
   "source": [
    "# d._logprob(x) scores them individiually\n",
    "d._logprob(x)"
   ]
  },
  {
   "cell_type": "code",
   "execution_count": 20,
   "metadata": {},
   "outputs": [
    {
     "data": {
      "text/plain": [
       "(-3.787377692576725, -3.787377692576725)"
      ]
     },
     "execution_count": 20,
     "metadata": {},
     "output_type": "execute_result"
    }
   ],
   "source": [
    "# d.logprob(x) computes the sum\n",
    "d.logprob(x), d._logprob(x).sum()"
   ]
  },
  {
   "cell_type": "code",
   "execution_count": 21,
   "metadata": {},
   "outputs": [
    {
     "data": {
      "text/plain": [
       "array([1.41262862, 0.6336156 ])"
      ]
     },
     "execution_count": 21,
     "metadata": {},
     "output_type": "execute_result"
    }
   ],
   "source": [
    "# This also works for multivariate distributions\n",
    "d = pr.MultivariateNormal([0.,0.] ,1.) # two dimensional\n",
    "d.sample()"
   ]
  },
  {
   "cell_type": "code",
   "execution_count": 22,
   "metadata": {},
   "outputs": [
    {
     "data": {
      "text/plain": [
       "((10, 2), (3, 4, 2))"
      ]
     },
     "execution_count": 22,
     "metadata": {},
     "output_type": "execute_result"
    }
   ],
   "source": [
    "d.sample(size=10).shape, d.sample(size=(3,4)).shape"
   ]
  },
  {
   "cell_type": "code",
   "execution_count": 23,
   "metadata": {},
   "outputs": [
    {
     "data": {
      "text/plain": [
       "((3, 4), -34.82895430511474)"
      ]
     },
     "execution_count": 23,
     "metadata": {},
     "output_type": "execute_result"
    }
   ],
   "source": [
    "x = d.sample(size=(3,4))\n",
    "d._logprob(x).shape, d.logprob(x)"
   ]
  },
  {
   "cell_type": "code",
   "execution_count": 24,
   "metadata": {},
   "outputs": [
    {
     "data": {
      "text/plain": [
       "-24.665180607800288"
      ]
     },
     "execution_count": 24,
     "metadata": {},
     "output_type": "execute_result"
    }
   ],
   "source": [
    "# you can also pass lists of values to `logprob`\n",
    "x = [d.sample() for _ in range(10)]\n",
    "d.logprob(x)"
   ]
  },
  {
   "cell_type": "code",
   "execution_count": 25,
   "metadata": {},
   "outputs": [
    {
     "data": {
      "text/plain": [
       "array([0, 1])"
      ]
     },
     "execution_count": 25,
     "metadata": {},
     "output_type": "execute_result"
    }
   ],
   "source": [
    "# you can also pass multiple parameters to distributions\n",
    "d = pr.Bernoulli([0.1,0.9])\n",
    "d.sample()"
   ]
  },
  {
   "cell_type": "code",
   "execution_count": 26,
   "metadata": {},
   "outputs": [
    {
     "data": {
      "text/plain": [
       "array([[0, 1],\n",
       "       [0, 0],\n",
       "       [0, 1],\n",
       "       [0, 1]])"
      ]
     },
     "execution_count": 26,
     "metadata": {},
     "output_type": "execute_result"
    }
   ],
   "source": [
    "d.sample(size=(4,2))"
   ]
  },
  {
   "cell_type": "markdown",
   "metadata": {},
   "source": [
    "**However, implicit broadcasting and vectorization is not recommended for translation purposes!**\n",
    "\n",
    "The `sample` statement of our PPL does not accept a `size` argument.\n",
    "\n",
    "However, you could pass an implicitely vectorized distribution like `Bernoulli([0.1,0.9])`.\n",
    "\n",
    "This kind of vectorization is not supported by all translation targets (e.g. Gen and Turing).\n",
    "\n",
    "**The recommended approach is explicit for-loops!**\n",
    "\n",
    "```\n",
    "b = Vector(2)\n",
    "for i in range(2):\n",
    "    b[i] = pr.sample(IndexedAddress(\"b\",i), pr.Bernoulli(p[i]))\n",
    "```\n",
    "\n",
    "A sophisticated translator may simplify above expression with implicit vectorization, if it is supported in the target language (e.g. Pyro).\n",
    "\n",
    "If you still want to use vectorization, we recommend to make it explicit in the syntax with `pr.IID` and `pr.Broadcasted`."
   ]
  },
  {
   "cell_type": "code",
   "execution_count": 27,
   "metadata": {},
   "outputs": [
    {
     "data": {
      "text/plain": [
       "array([1, 1])"
      ]
     },
     "execution_count": 27,
     "metadata": {},
     "output_type": "execute_result"
    }
   ],
   "source": [
    "d = pr.IID(pr.Bernoulli([0.9]), 2)\n",
    "d.sample()"
   ]
  },
  {
   "cell_type": "code",
   "execution_count": 28,
   "metadata": {},
   "outputs": [
    {
     "data": {
      "text/plain": [
       "array([1, 0])"
      ]
     },
     "execution_count": 28,
     "metadata": {},
     "output_type": "execute_result"
    }
   ],
   "source": [
    "d = pr.Broadcasted(pr.Bernoulli([0.1,0.9]))\n",
    "d.sample()"
   ]
  },
  {
   "cell_type": "code",
   "execution_count": 29,
   "metadata": {},
   "outputs": [
    {
     "data": {
      "text/plain": [
       "(3, 2)"
      ]
     },
     "execution_count": 29,
     "metadata": {},
     "output_type": "execute_result"
    }
   ],
   "source": [
    "d = pr.IID(pr.MultivariateNormal([0., 0.], 1), 3)\n",
    "d.sample().shape"
   ]
  },
  {
   "cell_type": "markdown",
   "metadata": {},
   "source": [
    "#### Example 1:"
   ]
  },
  {
   "cell_type": "code",
   "execution_count": 30,
   "metadata": {},
   "outputs": [
    {
     "data": {
      "text/plain": [
       "(0.2295533022590479,\n",
       " -inf,\n",
       " Trace(input=(([0, 0, 1, 1, 1],), {}))\n",
       " 0.: {'address': 'p', 'kind': 'sample', 'value': 0.2295533022590479, 'logprob': 0.0, 'distribution': Uniform(loc=0, scale=1)}\n",
       " 1.: {'address': Bernoulli(p=0.2295533022590479), 'kind': 'observe', 'value': 0, 'logprob': -inf, 'distribution': Dirac(value=True)}\n",
       " 2.: {'address': Bernoulli(p=0.2295533022590479), 'kind': 'observe', 'value': 0, 'logprob': -inf, 'distribution': Dirac(value=True)}\n",
       " 3.: {'address': Bernoulli(p=0.2295533022590479), 'kind': 'observe', 'value': 1, 'logprob': 0.0, 'distribution': Dirac(value=True)}\n",
       " 4.: {'address': Bernoulli(p=0.2295533022590479), 'kind': 'observe', 'value': 1, 'logprob': 0.0, 'distribution': Dirac(value=True)}\n",
       " 5.: {'address': Bernoulli(p=0.2295533022590479), 'kind': 'observe', 'value': 1, 'logprob': 0.0, 'distribution': Dirac(value=True)}\n",
       " retval=0.2295533022590479\n",
       " logprob: -inf)"
      ]
     },
     "execution_count": 30,
     "metadata": {},
     "output_type": "execute_result"
    }
   ],
   "source": [
    "@pr.probabilistic_program\n",
    "def coin_flips(data):\n",
    "    p = pr.sample(\"p\", pr.Uniform(0, 1))\n",
    "    for i in range(len(data)):\n",
    "        pr.observe(data[i], pr.Bernoulli(p),)\n",
    "    return p\n",
    "data = [0,0,1,1,1]\n",
    "coin_flips(data)"
   ]
  },
  {
   "cell_type": "code",
   "execution_count": 31,
   "metadata": {},
   "outputs": [
    {
     "data": {
      "text/plain": [
       "(0.05631704283464389,\n",
       " -8.746204264408954,\n",
       " Trace(input=(([0, 0, 1, 1, 1],), {}))\n",
       " 0.: {'address': 'p', 'kind': 'sample', 'value': 0.05631704283464389, 'logprob': 0.0, 'distribution': Uniform(loc=0, scale=1)}\n",
       " 1.: {'address': 'flip', 'kind': 'observe', 'value': [0, 0, 1, 1, 1], 'logprob': -8.746204264408954, 'distribution': IID(Bernoulli(p=0.05631704283464389), 5)}\n",
       " retval=0.05631704283464389\n",
       " logprob: -8.746204264408954)"
      ]
     },
     "execution_count": 31,
     "metadata": {},
     "output_type": "execute_result"
    }
   ],
   "source": [
    "# same model but explicitly vectorised\n",
    "@pr.probabilistic_program\n",
    "def coin_flips(data):\n",
    "    p = pr.sample(\"p\", pr.Uniform(0, 1))\n",
    "    pr.observe(data, \"flip\", pr.IID(pr.Bernoulli(p), len(data)))\n",
    "    return p\n",
    "coin_flips(data)"
   ]
  },
  {
   "cell_type": "code",
   "execution_count": 32,
   "metadata": {},
   "outputs": [
    {
     "data": {
      "text/plain": [
       "(0.6512474464444042,\n",
       " -3.3933820684870692,\n",
       " Trace(input=(([0, 0, 1, 1, 1],), {}))\n",
       " 0.: {'address': 'p', 'kind': 'sample', 'value': 0.6512474464444042, 'logprob': 0.0, 'distribution': Uniform(loc=0, scale=1)}\n",
       " 1.: {'address': 'flip', 'kind': 'observe', 'value': [0, 0, 1, 1, 1], 'logprob': -3.3933820684870692, 'distribution': Bernoulli(p=0.6512474464444042)}\n",
       " retval=0.6512474464444042\n",
       " logprob: -3.3933820684870692)"
      ]
     },
     "execution_count": 32,
     "metadata": {},
     "output_type": "execute_result"
    }
   ],
   "source": [
    "# same model but implicitly vectorised\n",
    "@pr.probabilistic_program\n",
    "def coin_flips(data):\n",
    "    p = pr.sample(\"p\", pr.Uniform(0, 1))\n",
    "    pr.observe(data, \"flip\", pr.Bernoulli(p))\n",
    "    return p\n",
    "coin_flips(data)"
   ]
  },
  {
   "cell_type": "markdown",
   "metadata": {},
   "source": [
    "#### Example 2"
   ]
  },
  {
   "cell_type": "code",
   "execution_count": 33,
   "metadata": {},
   "outputs": [
    {
     "data": {
      "text/plain": [
       "(None,\n",
       " -20.16741634091196,\n",
       " Trace(input=((2, array([-1.31842713,  0.96380373,  1.44642161, -0.38060677,  2.01540414])), {}))\n",
       " 0.: {'address': 'p', 'kind': 'sample', 'value': 0.6961760883087962, 'logprob': 0.0, 'distribution': Uniform(loc=0.0, scale=1.0)}\n",
       " 1.: {'address': 'mu[0]', 'kind': 'sample', 'value': 1.3133432568709384, 'logprob': -1.7813737883888545, 'distribution': Normal(loc=0.0, scale=1.0)}\n",
       " 2.: {'address': 'mu[1]', 'kind': 'sample', 'value': -1.094563399055875, 'logprob': -1.5179730504810478, 'distribution': Normal(loc=0.0, scale=1.0)}\n",
       " 3.: {'address': 'z[0]', 'kind': 'sample', 'value': 1, 'logprob': -0.3621526502032599, 'distribution': Bernoulli(p=0.6961760883087962)}\n",
       " 4.: {'address': 'y[0]', 'kind': 'observe', 'value': -1.3184271303562787, 'logprob': -0.9439960183005424, 'distribution': Normal(loc=-1.094563399055875, scale=1.0)}\n",
       " 5.: {'address': 'z[1]', 'kind': 'sample', 'value': 1, 'logprob': -0.3621526502032599, 'distribution': Bernoulli(p=0.6961760883087962)}\n",
       " 6.: {'address': 'y[1]', 'kind': 'observe', 'value': 0.9638037306798926, 'logprob': -3.0373761535930037, 'distribution': Normal(loc=-1.094563399055875, scale=1.0)}\n",
       " 7.: {'address': 'z[2]', 'kind': 'sample', 'value': 1, 'logprob': -0.3621526502032599, 'distribution': Bernoulli(p=0.6961760883087962)}\n",
       " 8.: {'address': 'y[2]', 'kind': 'observe', 'value': 1.4464216066098032, 'logprob': -4.147240932713576, 'distribution': Normal(loc=-1.094563399055875, scale=1.0)}\n",
       " 9.: {'address': 'z[3]', 'kind': 'sample', 'value': 1, 'logprob': -0.3621526502032599, 'distribution': Bernoulli(p=0.6961760883087962)}\n",
       " 10.: {'address': 'y[3]', 'kind': 'observe', 'value': -0.3806067654682461, 'logprob': -1.1738055705265626, 'distribution': Normal(loc=-1.094563399055875, scale=1.0)}\n",
       " 11.: {'address': 'z[4]', 'kind': 'sample', 'value': 1, 'logprob': -0.3621526502032599, 'distribution': Bernoulli(p=0.6961760883087962)}\n",
       " 12.: {'address': 'y[4]', 'kind': 'observe', 'value': 2.0154041386163106, 'logprob': -5.754887575892072, 'distribution': Normal(loc=-1.094563399055875, scale=1.0)}\n",
       " retval=None\n",
       " logprob: -20.16741634091196)"
      ]
     },
     "execution_count": 33,
     "metadata": {},
     "output_type": "execute_result"
    }
   ],
   "source": [
    "@pr.probabilistic_program\n",
    "def gmm(K, data):\n",
    "    p = pr.sample(\"p\", pr.Uniform(0.,1))\n",
    "    mu = pr.Vector(K)\n",
    "    for k in range(K):\n",
    "        mu[k] = pr.sample(pr.IndexedAddress(\"mu\",k), pr.Normal(0.,1.))\n",
    "    \n",
    "    z = pr.Vector(len(data))\n",
    "    for i in range(len(data)):\n",
    "        z[i] = pr.sample(pr.IndexedAddress(\"z\",i), pr.Bernoulli(p))\n",
    "        pr.observe(data[i], pr.IndexedAddress(\"y\",i), pr.Normal(mu[z[i]],1.))\n",
    "\n",
    "data = np.hstack((pr.Normal(-1,1).sample(2), pr.Normal(1,1).sample(3)))\n",
    "gmm(2, data)"
   ]
  },
  {
   "cell_type": "code",
   "execution_count": 34,
   "metadata": {},
   "outputs": [
    {
     "data": {
      "text/plain": [
       "(None,\n",
       " -20.421629646994393,\n",
       " Trace(input=((2, array([-1.31842713,  0.96380373,  1.44642161, -0.38060677,  2.01540414])), {}))\n",
       " 0.: {'address': 'p', 'kind': 'sample', 'value': 0.81797737389063, 'logprob': 0.0, 'distribution': Uniform(loc=0.0, scale=1.0)}\n",
       " 1.: {'address': 'mu', 'kind': 'sample', 'value': array([-0.87746706,  1.8617082 ]), 'logprob': -3.9558299903014316, 'distribution': IID(Normal(loc=0.0, scale=1.0), 2)}\n",
       " 2.: {'address': 'z', 'kind': 'sample', 'value': array([1, 0, 1, 1, 1]), 'logprob': -2.507306692519475, 'distribution': IID(Bernoulli(p=0.81797737389063), 5)}\n",
       " 3.: {'address': 'y', 'kind': 'observe', 'value': array([-1.31842713,  0.96380373,  1.44642161, -0.38060677,  2.01540414]), 'logprob': -13.958492964173487, 'distribution': Broadcasted(Normal(loc=[ 1.8617082  -0.87746706  1.8617082   1.8617082   1.8617082 ], scale=1.0))}\n",
       " retval=None\n",
       " logprob: -20.421629646994393)"
      ]
     },
     "execution_count": 34,
     "metadata": {},
     "output_type": "execute_result"
    }
   ],
   "source": [
    "# same model but explicitly vectorised\n",
    "@pr.probabilistic_program\n",
    "def gmm(K, data):\n",
    "    p = pr.sample(\"p\", pr.Uniform(0.,1))\n",
    "    mu = pr.sample(\"mu\", pr.IID(pr.Normal(0.,1.), 2))\n",
    "    z = pr.sample(\"z\", pr.IID(pr.Bernoulli(p),len(data)))\n",
    "    pr.observe(data, \"y\", pr.Broadcasted(pr.Normal(mu[z],1.)))\n",
    "\n",
    "gmm(2, data)"
   ]
  },
  {
   "cell_type": "code",
   "execution_count": 35,
   "metadata": {},
   "outputs": [
    {
     "data": {
      "text/plain": [
       "(None,\n",
       " -14.06290900846937,\n",
       " Trace(input=((2, array([-1.31842713,  0.96380373,  1.44642161, -0.38060677,  2.01540414])), {}))\n",
       " 0.: {'address': 'p', 'kind': 'sample', 'value': 0.31592163316620225, 'logprob': 0.0, 'distribution': Uniform(loc=0.0, scale=1.0)}\n",
       " 1.: {'address': 'mu', 'kind': 'sample', 'value': array([0.2614101 , 1.44527501]), 'logprob': -2.916454608521023, 'distribution': Normal(loc=Vector([0.0, 0.0]), scale=1.0)}\n",
       " 2.: {'address': 'z', 'kind': 'sample', 'value': array([0, 1, 1, 0, 0]), 'logprob': -3.4435705745056024, 'distribution': Bernoulli(p=Vector([0.31592163316620225, 0.31592163316620225, 0.31592163316620225, 0.31592163316620225, 0.31592163316620225]))}\n",
       " 3.: {'address': 'y', 'kind': 'observe', 'value': array([-1.31842713,  0.96380373,  1.44642161, -0.38060677,  2.01540414]), 'logprob': -7.702883825442745, 'distribution': Normal(loc=[0.2614101  1.44527501 1.44527501 0.2614101  0.2614101 ], scale=1.0)}\n",
       " retval=None\n",
       " logprob: -14.06290900846937)"
      ]
     },
     "execution_count": 35,
     "metadata": {},
     "output_type": "execute_result"
    }
   ],
   "source": [
    "# same model but implicetly vectorised\n",
    "@pr.probabilistic_program\n",
    "def gmm(K, data):\n",
    "    p = pr.sample(\"p\", pr.Uniform(0.,1))\n",
    "    mu = pr.sample(\"mu\", pr.Normal(pr.Vector(K,fill=0.),1.))\n",
    "    z = pr.sample(\"z\", pr.Bernoulli(pr.Vector(len(data),fill=p)))\n",
    "    pr.observe(data, \"y\", pr.Normal(mu[z],1.))\n",
    "\n",
    "gmm(2, data)"
   ]
  },
  {
   "cell_type": "code",
   "execution_count": null,
   "metadata": {},
   "outputs": [],
   "source": []
  }
 ],
 "metadata": {
  "kernelspec": {
   "display_name": "ppl",
   "language": "python",
   "name": "python3"
  },
  "language_info": {
   "codemirror_mode": {
    "name": "ipython",
    "version": 3
   },
   "file_extension": ".py",
   "mimetype": "text/x-python",
   "name": "python",
   "nbconvert_exporter": "python",
   "pygments_lexer": "ipython3",
   "version": "3.10.12"
  },
  "orig_nbformat": 4
 },
 "nbformat": 4,
 "nbformat_minor": 2
}
