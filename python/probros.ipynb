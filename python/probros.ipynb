{
 "cells": [
  {
   "cell_type": "code",
   "execution_count": 1,
   "metadata": {},
   "outputs": [],
   "source": [
    "import math\n",
    "import probros as pr\n",
    "import numpy as np"
   ]
  },
  {
   "cell_type": "code",
   "execution_count": 2,
   "metadata": {},
   "outputs": [],
   "source": [
    "np.random.seed(0)"
   ]
  },
  {
   "cell_type": "markdown",
   "metadata": {},
   "source": [
    "We use the `@pr.probabilistic_prgram` decorator to construct a probabilistic program from a python function."
   ]
  },
  {
   "cell_type": "markdown",
   "metadata": {},
   "source": [
    "## BRP model"
   ]
  },
  {
   "cell_type": "code",
   "execution_count": 3,
   "metadata": {},
   "outputs": [],
   "source": [
    "@pr.probabilistic_program\n",
    "def brp(toSend, maxFailed):\n",
    "    sent = 0\n",
    "    failed = 0\n",
    "    totalFailed = 0\n",
    "\n",
    "    i = 1\n",
    "    while failed < maxFailed and sent < toSend:\n",
    "        b = pr.sample(f\"attempt_transmit_{i}\", pr.Bernoulli(0.1))\n",
    "        if b:\n",
    "            failed = 0\n",
    "            sent = sent + 1\n",
    "        else:\n",
    "            failed = failed + 1\n",
    "            totalFailed = totalFailed + 1\n",
    "        i += 1\n",
    "\n",
    "    return totalFailed"
   ]
  },
  {
   "cell_type": "code",
   "execution_count": 4,
   "metadata": {},
   "outputs": [
    {
     "data": {
      "text/plain": [
       "(3,\n",
       " -0.3160815469734789,\n",
       " Trace(input=((5, 3), {}))\n",
       " 0.: {'address': 'attempt_transmit_1', 'kind': 'sample', 'value': 0, 'logprob': -0.10536051565782631, 'distribution': Bernoulli(p=0.1)}\n",
       " 1.: {'address': 'attempt_transmit_2', 'kind': 'sample', 'value': 0, 'logprob': -0.10536051565782631, 'distribution': Bernoulli(p=0.1)}\n",
       " 2.: {'address': 'attempt_transmit_3', 'kind': 'sample', 'value': 0, 'logprob': -0.10536051565782631, 'distribution': Bernoulli(p=0.1)}\n",
       " retval=3\n",
       " logprob: -0.3160815469734789)"
      ]
     },
     "execution_count": 4,
     "metadata": {},
     "output_type": "execute_result"
    }
   ],
   "source": [
    "brp(5, 3) # trace has variable number of random value draws"
   ]
  },
  {
   "cell_type": "code",
   "execution_count": 5,
   "metadata": {},
   "outputs": [],
   "source": [
    "@pr.probabilistic_program\n",
    "def brp(toSend, maxFailed):\n",
    "    sent = 0\n",
    "    failed = 0\n",
    "    totalFailed = 0\n",
    "\n",
    "    while failed < maxFailed and sent < toSend:\n",
    "        b = pr.sample(f\"attempt_transmit\", pr.Bernoulli(0.1))\n",
    "        if b:\n",
    "            failed = 0\n",
    "            sent = sent + 1\n",
    "        else:\n",
    "            failed = failed + 1\n",
    "            totalFailed = totalFailed + 1\n",
    "\n",
    "    return totalFailed"
   ]
  },
  {
   "cell_type": "code",
   "execution_count": 6,
   "metadata": {},
   "outputs": [
    {
     "data": {
      "text/plain": [
       "(3,\n",
       " -0.3160815469734789,\n",
       " Trace(input=((5, 3), {}))\n",
       " 0.: {'address': 'attempt_transmit', 'kind': 'sample', 'value': 0, 'logprob': -0.10536051565782631, 'distribution': Bernoulli(p=0.1)}\n",
       " 1.: {'address': 'attempt_transmit', 'kind': 'sample', 'value': 0, 'logprob': -0.10536051565782631, 'distribution': Bernoulli(p=0.1)}\n",
       " 2.: {'address': 'attempt_transmit', 'kind': 'sample', 'value': 0, 'logprob': -0.10536051565782631, 'distribution': Bernoulli(p=0.1)}\n",
       " retval=3\n",
       " logprob: -0.3160815469734789)"
      ]
     },
     "execution_count": 6,
     "metadata": {},
     "output_type": "execute_result"
    }
   ],
   "source": [
    "brp(5, 3) # now addresses need not be unique"
   ]
  },
  {
   "cell_type": "markdown",
   "metadata": {},
   "source": [
    "## Coin flip model\n",
    "\n",
    "We want to infer if a coin is biased.\n",
    "\n",
    "What is the true probability of flipping the heads (== 1).\n",
    "\n",
    "We have observed following flips 0,0,1,1,1."
   ]
  },
  {
   "cell_type": "code",
   "execution_count": 7,
   "metadata": {},
   "outputs": [],
   "source": [
    "@pr.probabilistic_program\n",
    "def coin_flips(data):\n",
    "    p = pr.sample(\"p\", pr.Uniform(0, 1))\n",
    "    for i in range(len(data)):\n",
    "        pr.observe(data[i], f\"flip_{i}\", pr.Bernoulli(p))\n",
    "    return p"
   ]
  },
  {
   "cell_type": "code",
   "execution_count": 8,
   "metadata": {},
   "outputs": [
    {
     "data": {
      "text/plain": [
       "(0.4375872112626925,\n",
       " -3.6304761574003996,\n",
       " Trace(input=(([0, 0, 1, 1, 1],), {}))\n",
       " 0.: {'address': 'p', 'kind': 'sample', 'value': 0.4375872112626925, 'logprob': 0.0, 'distribution': Uniform(loc=0, scale=1)}\n",
       " 1.: {'address': 'flip_0', 'kind': 'observe', 'value': 0, 'logprob': -0.5755191991686398, 'distribution': Bernoulli(p=0.4375872112626925)}\n",
       " 2.: {'address': 'flip_1', 'kind': 'observe', 'value': 0, 'logprob': -0.5755191991686398, 'distribution': Bernoulli(p=0.4375872112626925)}\n",
       " 3.: {'address': 'flip_2', 'kind': 'observe', 'value': 1, 'logprob': -0.8264792530210401, 'distribution': Bernoulli(p=0.4375872112626925)}\n",
       " 4.: {'address': 'flip_3', 'kind': 'observe', 'value': 1, 'logprob': -0.8264792530210401, 'distribution': Bernoulli(p=0.4375872112626925)}\n",
       " 5.: {'address': 'flip_4', 'kind': 'observe', 'value': 1, 'logprob': -0.8264792530210401, 'distribution': Bernoulli(p=0.4375872112626925)}\n",
       " retval=0.4375872112626925\n",
       " logprob: -3.6304761574003996)"
      ]
     },
     "execution_count": 8,
     "metadata": {},
     "output_type": "execute_result"
    }
   ],
   "source": [
    "data = [0,0,1,1,1]\n",
    "coin_flips(data)"
   ]
  },
  {
   "cell_type": "markdown",
   "metadata": {},
   "source": [
    "Running the model corresponds to:\n",
    "- `sample` a value for `p`,\n",
    "- add to log probability `logprob += logpdf(Uniform(0,1), p)`\n",
    "- `observe` each data point `data[i]`\n",
    "- add to the log probability `logprob += logpdf(Bernoulli(p), data[i])` (depends on `p`)\n",
    "- return `p`, `logprob`, and trace\n",
    "\n",
    "\n",
    "`logprob = logpdf(Uniform(0,1), p) + logpdf(Bernoulli(p), data[0]) + logpdf(Bernoulli(p), data[1]) + logpdf(Bernoulli(p), data[2]) + logpdf(Bernoulli(p), data[3]) + logpdf(Bernoulli(p), data[4])`\n",
    "\n",
    "Thus,\n",
    "\n",
    "`exp(logprob) = Prob(p,flip_0=0,flip_1=0,flip_2=1,flip_3=1,flip_4=1) = Prob(p, Y=data)`\n",
    "\n",
    "The posterior is proportional to the joint:\n",
    "\n",
    "`Prob(p|Y=data) = Prob(p, Y=data) / Prob(Y=data)`"
   ]
  },
  {
   "cell_type": "code",
   "execution_count": 9,
   "metadata": {},
   "outputs": [
    {
     "data": {
      "text/plain": [
       "(0.8917730007820798,\n",
       " -4.790679812715388,\n",
       " Trace(input=(([0, 0, 1, 1, 1],), {}))\n",
       " 0.: {'address': 'p', 'kind': 'sample', 'value': 0.8917730007820798, 'logprob': 0.0, 'distribution': Uniform(loc=0, scale=1)}\n",
       " 1.: {'address': 'flip', 'kind': 'observe', 'value': [0, 0, 1, 1, 1], 'logprob': -4.790679812715388, 'distribution': IID(Bernoulli(p=0.8917730007820798), 5)}\n",
       " retval=0.8917730007820798\n",
       " logprob: -4.790679812715388)"
      ]
     },
     "execution_count": 9,
     "metadata": {},
     "output_type": "execute_result"
    }
   ],
   "source": [
    "# same model but explicitly vectorised\n",
    "@pr.probabilistic_program\n",
    "def coin_flips(data):\n",
    "    p = pr.sample(\"p\", pr.Uniform(0, 1))\n",
    "    pr.observe(data, \"flip\", pr.IID(pr.Bernoulli(p), len(data)))\n",
    "    return p\n",
    "coin_flips(data)"
   ]
  },
  {
   "cell_type": "code",
   "execution_count": 10,
   "metadata": {},
   "outputs": [
    {
     "data": {
      "text/plain": [
       "(0.9636627605010293,\n",
       " -6.740866001355919,\n",
       " Trace(input=(([0, 0, 1, 1, 1],), {}))\n",
       " 0.: {'address': 'p', 'kind': 'sample', 'value': 0.9636627605010293, 'logprob': 0.0, 'distribution': Uniform(loc=0, scale=1)}\n",
       " 1.: {'address': 'flip', 'kind': 'observe', 'value': [0, 0, 1, 1, 1], 'logprob': -6.740866001355919, 'distribution': Bernoulli(p=0.9636627605010293)}\n",
       " retval=0.9636627605010293\n",
       " logprob: -6.740866001355919)"
      ]
     },
     "execution_count": 10,
     "metadata": {},
     "output_type": "execute_result"
    }
   ],
   "source": [
    "# same model but implicitly vectorised\n",
    "@pr.probabilistic_program\n",
    "def coin_flips(data):\n",
    "    p = pr.sample(\"p\", pr.Uniform(0, 1))\n",
    "    pr.observe(data, \"flip\", pr.Bernoulli(p))\n",
    "    return p\n",
    "coin_flips(data)"
   ]
  },
  {
   "cell_type": "code",
   "execution_count": 11,
   "metadata": {},
   "outputs": [
    {
     "data": {
      "image/png": "[encoded data removed]",
      "text/plain": [
       "<Figure size 800x400 with 2 Axes>"
      ]
     },
     "metadata": {},
     "output_type": "display_data"
    }
   ],
   "source": [
    "# We can make a few draws, and plot the result\n",
    "import matplotlib.pyplot as plt\n",
    "import numpy as np\n",
    "from scipy.stats import beta \n",
    "samples = [coin_flips(data)[:2] for _ in range(1000)]\n",
    "samples = sorted(samples)\n",
    "\n",
    "fig, ax = plt.subplots(1, 2, figsize=(8,4))\n",
    "ps = np.array([s[0] for s in samples])\n",
    "logprobs = np.array([s[1] for s in samples])\n",
    "ax[0].plot(ps, np.exp(logprobs))\n",
    "ax[0].set_xlabel(\"p\")\n",
    "ax[0].set_ylabel(\"Unnormalized Probability\")\n",
    "ax[0].set_title(\"Joint Probability Density Prob(p, Y=data)\")\n",
    "ax[1].plot(ps, beta.pdf(ps, 3+1,2+1), c=\"tab:orange\")\n",
    "ax[1].set_xlabel(\"p\")\n",
    "ax[1].set_ylabel(\"Normalized probability\")\n",
    "ax[1].set_title(\"True Posterior Density\")\n",
    "plt.show()"
   ]
  },
  {
   "cell_type": "code",
   "execution_count": 12,
   "metadata": {},
   "outputs": [
    {
     "data": {
      "text/plain": [
       "0.01666662501016135"
      ]
     },
     "execution_count": 12,
     "metadata": {},
     "output_type": "execute_result"
    }
   ],
   "source": [
    "# Indeed the area under the curve does not equal 1 -> unnormalized\n",
    "np.trapz(np.exp(logprobs), ps)"
   ]
  },
  {
   "cell_type": "markdown",
   "metadata": {},
   "source": [
    "We can also equivalently formulate the model in terms of a factor.\n",
    "\n",
    "Essentially, observe statements are factors: `factor(distribution.logprob(value)) ~ observe(value, distribution)`."
   ]
  },
  {
   "cell_type": "code",
   "execution_count": 13,
   "metadata": {},
   "outputs": [],
   "source": [
    "@pr.probabilistic_program\n",
    "def coin_flips_factor(data):\n",
    "    p = pr.sample(\"p\", pr.Uniform(0, 1))\n",
    "    f = 0.\n",
    "    for i in range(len(data)):\n",
    "        f += math.log(p if data[i] == 1 else 1-p)\n",
    "    pr.factor(f)\n",
    "    return p"
   ]
  },
  {
   "cell_type": "code",
   "execution_count": 14,
   "metadata": {},
   "outputs": [
    {
     "data": {
      "text/plain": [
       "(0.953675696427313,\n",
       " -6.286471899401944,\n",
       " Trace(input=(([0, 0, 1, 1, 1],), {}))\n",
       " 0.: {'address': 'p', 'kind': 'sample', 'value': 0.953675696427313, 'logprob': 0.0, 'distribution': Uniform(loc=0, scale=1)}\n",
       " 1.: {'address': 'factor:1', 'kind': 'factor', 'logprob': -6.286471899401944}\n",
       " retval=0.953675696427313\n",
       " logprob: -6.286471899401944)"
      ]
     },
     "execution_count": 14,
     "metadata": {},
     "output_type": "execute_result"
    }
   ],
   "source": [
    "coin_flips_factor(data)"
   ]
  },
  {
   "cell_type": "code",
   "execution_count": 15,
   "metadata": {},
   "outputs": [
    {
     "data": {
      "image/png": "[encoded data removed]",
      "text/plain": [
       "<Figure size 400x400 with 1 Axes>"
      ]
     },
     "metadata": {},
     "output_type": "display_data"
    },
    {
     "data": {
      "text/plain": [
       "0.01666664670140041"
      ]
     },
     "execution_count": 15,
     "metadata": {},
     "output_type": "execute_result"
    }
   ],
   "source": [
    "samples = [coin_flips_factor(data)[:2] for _ in range(1000)]\n",
    "samples = sorted(samples)\n",
    "\n",
    "fig, ax = plt.subplots(1, 1, figsize=(4,4))\n",
    "ps = np.array([s[0] for s in samples])\n",
    "logprobs = np.array([s[1] for s in samples])\n",
    "ax.plot(ps, np.exp(logprobs))\n",
    "ax.set_xlabel(\"p\")\n",
    "ax.set_ylabel(\"Unnormalized Probability\")\n",
    "plt.show()\n",
    "np.trapz(np.exp(logprobs), ps)"
   ]
  },
  {
   "cell_type": "markdown",
   "metadata": {},
   "source": [
    "## Linear Regression Model\n",
    "\n",
    "In more complicated models, where we have more than 1 latent variable, it is not as simple to compute the normalization constant as above.\n",
    "\n",
    "Therefore, you need more sophisticated inference algorithms to approximate the posterior.\n",
    "\n",
    "However, I think this is not the scope of our package.\n",
    "\n",
    "Simply producing samples by running the model should be enough.\n",
    "\n",
    "For instance, consider a linear regression model with 3 latents:"
   ]
  },
  {
   "cell_type": "code",
   "execution_count": 16,
   "metadata": {},
   "outputs": [],
   "source": [
    "@pr.probabilistic_program\n",
    "def linear_regression(x, y):\n",
    "    slope = pr.sample(\"slope\", pr.Normal(0, 10))\n",
    "    intercept = pr.sample(\"intercept\", pr.Normal(0, 10))\n",
    "    sigma = pr.sample(\"sigma\", pr.Uniform(0.1, 5))\n",
    "\n",
    "    for i in range(len(x)):\n",
    "        pr.observe(y[i], f\"y_{i}\", pr.Normal(slope * x[i] + intercept, sigma))\n",
    "\n",
    "    return slope, intercept, sigma"
   ]
  },
  {
   "cell_type": "code",
   "execution_count": 17,
   "metadata": {},
   "outputs": [
    {
     "data": {
      "text/plain": [
       "((-16.193599828975426, -5.110404635801098, 0.744824566796781),\n",
       " -18966.97799539309)"
      ]
     },
     "execution_count": 17,
     "metadata": {},
     "output_type": "execute_result"
    }
   ],
   "source": [
    "x = [1,2,3,4,5]\n",
    "y = [2.1, 3.9, 5.3, 7.7, 10.2]\n",
    "(slope, intercept, sigma), logprob, _ = linear_regression(x,y)\n",
    "(slope, intercept, sigma), logprob"
   ]
  },
  {
   "cell_type": "markdown",
   "metadata": {},
   "source": [
    "## Discrete Model\n",
    "\n",
    "Lastly, we consider a discrete model, with observe statements that assert that some program variables are true.\n",
    "\n",
    "`pr.observe(called, \"called\") # == observe(called, \"called\", Dirac(True))`\n",
    "\n",
    "This results in many traces having log-probability -inf."
   ]
  },
  {
   "cell_type": "code",
   "execution_count": 18,
   "metadata": {},
   "outputs": [],
   "source": [
    "@pr.probabilistic_program\n",
    "def Burglary():\n",
    "    earthquake = pr.sample(\"earthquake\", pr.Bernoulli(0.0001))\n",
    "    burglary = pr.sample(\"burglary\", pr.Bernoulli(0.001))\n",
    "    alarm = earthquake or burglary\n",
    "    if earthquake:\n",
    "        phoneWorking = pr.sample(\"phoneWorking\", pr.Bernoulli(0.7))\n",
    "    else:\n",
    "        phoneWorking = pr.sample(\"phoneWorking\", pr.Bernoulli(0.99))\n",
    "    if alarm:\n",
    "        if earthquake:\n",
    "            maryWakes = pr.sample(\"maryWakes\", pr.Bernoulli(0.8))\n",
    "        else:\n",
    "            maryWakes = pr.sample(\"maryWakes\", pr.Bernoulli(0.6))\n",
    "    else:\n",
    "        maryWakes = pr.sample(\"maryWakes\", pr.Bernoulli(0.2))\n",
    "\n",
    "    called = maryWakes and phoneWorking\n",
    "    pr.observe(called, \"called\") # == observe(called, \"called\", Dirac(True))\n",
    "\n",
    "    return burglary"
   ]
  },
  {
   "cell_type": "code",
   "execution_count": 19,
   "metadata": {},
   "outputs": [
    {
     "data": {
      "text/plain": [
       "(0,\n",
       " -inf,\n",
       " Trace(input=((), {}))\n",
       " 0.: {'address': 'earthquake', 'kind': 'sample', 'value': 0, 'logprob': -0.00010000500033335834, 'distribution': Bernoulli(p=0.0001)}\n",
       " 1.: {'address': 'burglary', 'kind': 'sample', 'value': 0, 'logprob': -0.0010005003335835335, 'distribution': Bernoulli(p=0.001)}\n",
       " 2.: {'address': 'phoneWorking', 'kind': 'sample', 'value': 1, 'logprob': -0.01005033585350145, 'distribution': Bernoulli(p=0.99)}\n",
       " 3.: {'address': 'maryWakes', 'kind': 'sample', 'value': 0, 'logprob': -0.22314355131420976, 'distribution': Bernoulli(p=0.2)}\n",
       " 4.: {'address': 'called', 'kind': 'observe', 'value': 0, 'logprob': -inf, 'distribution': Dirac(value=True)}\n",
       " retval=0\n",
       " logprob: -inf)"
      ]
     },
     "execution_count": 19,
     "metadata": {},
     "output_type": "execute_result"
    }
   ],
   "source": [
    "Burglary()"
   ]
  },
  {
   "cell_type": "markdown",
   "metadata": {},
   "source": [
    "We would have to run this model with rejection sampling.\n",
    "\n",
    "Running this function leads to probability 0 traces in over 75% of cases.\n",
    "\n",
    "Or you would need more powerful inference algorithms, but for our purposes - sanity checking - I think just producing samples is enough."
   ]
  },
  {
   "cell_type": "code",
   "execution_count": 20,
   "metadata": {},
   "outputs": [
    {
     "data": {
      "text/plain": [
       "0.809"
      ]
     },
     "execution_count": 20,
     "metadata": {},
     "output_type": "execute_result"
    }
   ],
   "source": [
    "samples = [Burglary()[:2] for _ in range(1000)]\n",
    "logprobs = np.array([s[1] for s in samples])\n",
    "np.mean(np.exp(logprobs) == 0)"
   ]
  },
  {
   "cell_type": "markdown",
   "metadata": {},
   "source": [
    "## Translating to other languages\n",
    "\n",
    "I just had a quick idea to reuse the `Unparser` from the `ast` module.\n",
    "\n",
    "But I have not put much thought into this.\n",
    "\n",
    "Also Python 3.10 has `match` statements.\n",
    "\n",
    "For this demo, I only translate the sample and observe statements to Turing syntax and leave all other Python syntax unchanged."
   ]
  },
  {
   "cell_type": "code",
   "execution_count": 21,
   "metadata": {},
   "outputs": [],
   "source": [
    "import ast\n",
    "\n",
    "class TuringTranslator(ast._Unparser):\n",
    "    def _write_arguments(self, args, keywords):\n",
    "        with self.delimit(\"(\", \")\"):\n",
    "            comma = False\n",
    "            for e in args:\n",
    "                if comma:\n",
    "                    self.write(\", \")\n",
    "                else:\n",
    "                    comma = True\n",
    "                self.traverse(e)\n",
    "            for e in keywords:\n",
    "                if comma:\n",
    "                    self.write(\", \")\n",
    "                else:\n",
    "                    comma = True\n",
    "                self.traverse(e)\n",
    "\n",
    "    def visit_Assign(self, node):\n",
    "        match node:\n",
    "            case ast.Assign(\n",
    "                targets=[prog_name],\n",
    "                value=ast.Call(\n",
    "                    func=ast.Attribute(value=ast.Name(id=\"pr\"), attr=\"sample\"),\n",
    "                    args=[\n",
    "                        address,\n",
    "                        ast.Call(func=ast.Attribute(value=ast.Name(id=\"pr\"), attr=distribution_name), args=args, keywords=keywords)\n",
    "                    ]\n",
    "                )\n",
    "            ):\n",
    "                self.fill()\n",
    "                self.traverse(prog_name)\n",
    "                self.write(\" ~ \")\n",
    "                self.write(distribution_name)\n",
    "                self._write_arguments(args, keywords)\n",
    "\n",
    "            case _:\n",
    "                super().visit_Assign(node)\n",
    "\n",
    "    def visit_Call(self, node):\n",
    "        match node:\n",
    "            case ast.Call(\n",
    "                func=ast.Attribute(value=ast.Name(id=\"pr\"), attr=\"observe\"),\n",
    "                    args=[\n",
    "                        value,\n",
    "                        address,\n",
    "                        ast.Call(func=ast.Attribute(value=ast.Name(id=\"pr\"), attr=distribution_name), args=args, keywords=keywords)\n",
    "                    ]\n",
    "            ):\n",
    "                self.traverse(value)\n",
    "                self.write(\" ~ \")\n",
    "                self.write(distribution_name)\n",
    "                self._write_arguments(args, keywords)\n",
    "\n",
    "            case _:\n",
    "                super().visit_Call(node)"
   ]
  },
  {
   "cell_type": "code",
   "execution_count": 22,
   "metadata": {},
   "outputs": [],
   "source": [
    "source_code = \"\"\"\n",
    "@pr.probabilistic_program\n",
    "def coin_flips(data):\n",
    "    p = pr.sample(\"p\", pr.Uniform(0, 1))\n",
    "    for i in range(len(data)):\n",
    "        pr.observe(data[i], f\"flip_{i}\", pr.Bernoulli(p))\n",
    "    return p\n",
    "\"\"\""
   ]
  },
  {
   "cell_type": "code",
   "execution_count": 23,
   "metadata": {},
   "outputs": [
    {
     "name": "stdout",
     "output_type": "stream",
     "text": [
      "@pr.probabilistic_program\n",
      "def coin_flips(data):\n",
      "    p ~ Uniform(0, 1)\n",
      "    for i in range(len(data)):\n",
      "        data[i] ~ Bernoulli(p)\n",
      "    return p\n"
     ]
    }
   ],
   "source": [
    "source_tree = ast.parse(source_code)\n",
    "result = TuringTranslator().visit(source_tree)\n",
    "print(result)"
   ]
  },
  {
   "cell_type": "markdown",
   "metadata": {},
   "source": [
    "### Translations:\n",
    "\n",
    "```\n",
    "def model(input, data):\n",
    "    x = pr.sample(\"X\", Distribution(...))\n",
    "    pr.observe(data, \"data\", Distribution(...))\n",
    "    return x\n",
    "```\n",
    "\n",
    "#### Turing\n",
    "```\n",
    "@model function model(input, data):\n",
    "    x ~ Distribution(...)\n",
    "    data ~ Distribution(...)\n",
    "    return x\n",
    "```\n",
    "\n",
    "#### Gen\n",
    "```\n",
    "@gen function model(input, data):\n",
    "    x = {\"X\"} ~ Distribution(...)\n",
    "    {\"data\"} ~ Distribution(...)\n",
    "    return x\n",
    "choicemap(\"data\" => data)\n",
    "```\n",
    "\n",
    "#### Pyro\n",
    "```\n",
    "def model(input, data):\n",
    "    x = pyro.sample(\"X\", Distribution(...))\n",
    "    pyro.sample(\"data\", Distribution(...), obs=data)\n",
    "```\n",
    "\n",
    "#### PyMC\n",
    "```\n",
    "input = ...\n",
    "data = ....\n",
    "with pm.Model() as model:\n",
    "    x = pm.Distribution(\"X\", ...)\n",
    "    pm.Distribution(\"data\", ..., observed=data)\n",
    "```\n"
   ]
  },
  {
   "cell_type": "code",
   "execution_count": 24,
   "metadata": {},
   "outputs": [],
   "source": [
    "@pr.probabilistic_program\n",
    "def gmm(data):\n",
    "    mu0 = pr.sample(\"mu0\", pr.Normal(0,1))\n",
    "    mu1 = pr.sample(\"mu1\", pr.Normal(0,1))\n",
    "\n",
    "    z = pr.Vector(len(data), int)\n",
    "    for i in range(len(data)):\n",
    "        z[i] = pr.sample(f\"z_{i}\", pr.Bernoulli(0.5))\n",
    "        if z[i] == 0:\n",
    "            mu = mu0\n",
    "        else:\n",
    "            mu = mu1\n",
    "\n",
    "        pr.observe(data[i], \"data_{i}\", pr.Normal(mu, 1))\n",
    "\n",
    "    return (mu0, mu1)"
   ]
  },
  {
   "cell_type": "code",
   "execution_count": 25,
   "metadata": {},
   "outputs": [
    {
     "data": {
      "text/plain": [
       "((0.8056691268403157, -0.3031520602462005),\n",
       " -7.91187359460025,\n",
       " Trace(input=(([-1.0, 1.0],), {}))\n",
       " 0.: {'address': 'mu0', 'kind': 'sample', 'value': 0.8056691268403157, 'logprob': -1.2434899041764909, 'distribution': Normal(loc=0, scale=1)}\n",
       " 1.: {'address': 'mu1', 'kind': 'sample', 'value': -0.3031520602462005, 'logprob': -0.9648891190204306, 'distribution': Normal(loc=0, scale=1)}\n",
       " 2.: {'address': 'z_0', 'kind': 'sample', 'value': 0, 'logprob': -0.6931471805599453, 'distribution': Bernoulli(p=0.5)}\n",
       " 3.: {'address': 'data_{i}', 'kind': 'observe', 'value': -1.0, 'logprob': -2.5491590310168064, 'distribution': Normal(loc=0.8056691268403157, scale=1)}\n",
       " 4.: {'address': 'z_1', 'kind': 'sample', 'value': 1, 'logprob': -0.6931471805599453, 'distribution': Bernoulli(p=0.5)}\n",
       " 5.: {'address': 'data_{i}', 'kind': 'observe', 'value': 1.0, 'logprob': -1.7680411792666313, 'distribution': Normal(loc=-0.3031520602462005, scale=1)}\n",
       " retval=(0.8056691268403157, -0.3031520602462005)\n",
       " logprob: -7.91187359460025)"
      ]
     },
     "execution_count": 25,
     "metadata": {},
     "output_type": "execute_result"
    }
   ],
   "source": [
    "gmm([-1., 1.])"
   ]
  },
  {
   "cell_type": "markdown",
   "metadata": {},
   "source": [
    "```\n",
    "\n",
    "```\n",
    "\n",
    "#### Turing\n",
    "```\n",
    "@model function model(data):\n",
    "    mu0 ~ Normal(0,1)\n",
    "    mu1 ~ Normal(0,1)\n",
    "    \n",
    "    z = Vector{Float64}(undef, length(data))\n",
    "    for i in 1:length(data)\n",
    "        z[i] ~ Bernoulli(0.5)\n",
    "\n",
    "        if z[i] == 0\n",
    "            mu = mu0\n",
    "        else\n",
    "            mu = mu1\n",
    "        end\n",
    "        \n",
    "        data[i] ~ Normal(mu, 1)\n",
    "    end\n",
    "\n",
    "    return (mu0, mu1)\n",
    "end\n",
    "```"
   ]
  },
  {
   "cell_type": "code",
   "execution_count": 26,
   "metadata": {},
   "outputs": [],
   "source": [
    "@pr.probabilistic_program\n",
    "def urn(K, n_black_observed):\n",
    "    N = int(pr.sample(\"N\", pr.Poisson(6.)))\n",
    "    balls = pr.Vector(N, int)\n",
    "    for i in range(N):\n",
    "        balls[i] = pr.sample(f\"ball_{i}\", pr.Bernoulli(0.5))\n",
    "\n",
    "    n_black = 0\n",
    "    for k in range(K):\n",
    "        u = pr.sample(f\"u_{k}\", pr.Uniform(0, N))\n",
    "        i = math.floor(u)\n",
    "        n_black += balls[i]\n",
    "\n",
    "    pr.observe(n_black_observed, \"n_black\", pr.Dirac(n_black))\n",
    "\n",
    "    return N"
   ]
  },
  {
   "cell_type": "code",
   "execution_count": 27,
   "metadata": {},
   "outputs": [
    {
     "data": {
      "text/plain": [
       "(5,\n",
       " -inf,\n",
       " Trace(input=((10, 5), {}))\n",
       " 0.: {'address': 'N', 'kind': 'sample', 'value': 5, 'logprob': -1.8286943966417715, 'distribution': Poisson(mu=6.0)}\n",
       " 1.: {'address': 'ball_0', 'kind': 'sample', 'value': 1, 'logprob': -0.6931471805599453, 'distribution': Bernoulli(p=0.5)}\n",
       " 2.: {'address': 'ball_1', 'kind': 'sample', 'value': 1, 'logprob': -0.6931471805599453, 'distribution': Bernoulli(p=0.5)}\n",
       " 3.: {'address': 'ball_2', 'kind': 'sample', 'value': 1, 'logprob': -0.6931471805599453, 'distribution': Bernoulli(p=0.5)}\n",
       " 4.: {'address': 'ball_3', 'kind': 'sample', 'value': 0, 'logprob': -0.6931471805599453, 'distribution': Bernoulli(p=0.5)}\n",
       " 5.: {'address': 'ball_4', 'kind': 'sample', 'value': 0, 'logprob': -0.6931471805599453, 'distribution': Bernoulli(p=0.5)}\n",
       " 6.: {'address': 'u_0', 'kind': 'sample', 'value': 2.3906011596858887, 'logprob': -1.6094379124341003, 'distribution': Uniform(loc=0, scale=5)}\n",
       " 7.: {'address': 'u_1', 'kind': 'sample', 'value': 1.2786676601579288, 'logprob': -1.6094379124341003, 'distribution': Uniform(loc=0, scale=5)}\n",
       " 8.: {'address': 'u_2', 'kind': 'sample', 'value': 1.6975571910214104, 'logprob': -1.6094379124341003, 'distribution': Uniform(loc=0, scale=5)}\n",
       " 9.: {'address': 'u_3', 'kind': 'sample', 'value': 2.2018816747341337, 'logprob': -1.6094379124341003, 'distribution': Uniform(loc=0, scale=5)}\n",
       " 10.: {'address': 'u_4', 'kind': 'sample', 'value': 4.2175043219681525, 'logprob': -1.6094379124341003, 'distribution': Uniform(loc=0, scale=5)}\n",
       " 11.: {'address': 'u_5', 'kind': 'sample', 'value': 4.652553083732694, 'logprob': -1.6094379124341003, 'distribution': Uniform(loc=0, scale=5)}\n",
       " 12.: {'address': 'u_6', 'kind': 'sample', 'value': 4.148706847779925, 'logprob': -1.6094379124341003, 'distribution': Uniform(loc=0, scale=5)}\n",
       " 13.: {'address': 'u_7', 'kind': 'sample', 'value': 2.6284985744655325, 'logprob': -1.6094379124341003, 'distribution': Uniform(loc=0, scale=5)}\n",
       " 14.: {'address': 'u_8', 'kind': 'sample', 'value': 3.557786266471377, 'logprob': -1.6094379124341003, 'distribution': Uniform(loc=0, scale=5)}\n",
       " 15.: {'address': 'u_9', 'kind': 'sample', 'value': 1.6760430460534337, 'logprob': -1.6094379124341003, 'distribution': Uniform(loc=0, scale=5)}\n",
       " 16.: {'address': 'n_black', 'kind': 'observe', 'value': 5, 'logprob': -inf, 'distribution': Dirac(value=6)}\n",
       " retval=5\n",
       " logprob: -inf)"
      ]
     },
     "execution_count": 27,
     "metadata": {},
     "output_type": "execute_result"
    }
   ],
   "source": [
    "urn(10, 5)"
   ]
  },
  {
   "cell_type": "code",
   "execution_count": 28,
   "metadata": {},
   "outputs": [],
   "source": [
    "@pr.probabilistic_program\n",
    "def hmm(data):\n",
    "    z = pr.Vector(len(data), float)\n",
    "    z[1] =  pr.sample(f\"z[1]\", pr.Bernoulli(0.5))\n",
    "    p = pr.sample(\"p\", pr.Uniform(0.,1.))\n",
    "    for i in range(1, len(data)):\n",
    "        if z[i-1] == 0:\n",
    "            p_stay = 1-p\n",
    "        else:\n",
    "            p_stay = p\n",
    "\n",
    "        z[i] = pr.sample(f\"z[{i}]\", pr.Bernoulli(p_stay))\n",
    "        pr.observe(data[i], f\"x[{i}]\", pr.Normal(z[i], 1.))"
   ]
  },
  {
   "cell_type": "code",
   "execution_count": 29,
   "metadata": {},
   "outputs": [
    {
     "data": {
      "text/plain": [
       "(None,\n",
       " -2.653733503644219,\n",
       " Trace(input=(([1.0, 1.0, 1.0],), {}))\n",
       " 0.: {'address': 'z[1]', 'kind': 'sample', 'value': 0, 'logprob': -0.6931471805599453, 'distribution': Bernoulli(p=0.5)}\n",
       " 1.: {'address': 'p', 'kind': 'sample', 'value': 0.9404896563472046, 'logprob': 0.0, 'distribution': Uniform(loc=0.0, scale=1.0)}\n",
       " 2.: {'address': 'z[1]', 'kind': 'sample', 'value': 1, 'logprob': -0.06135462833746425, 'distribution': Bernoulli(p=0.9404896563472046)}\n",
       " 3.: {'address': 'x[1]', 'kind': 'observe', 'value': 1.0, 'logprob': -0.9189385332046727, 'distribution': Normal(loc=1, scale=1.0)}\n",
       " 4.: {'address': 'z[2]', 'kind': 'sample', 'value': 1, 'logprob': -0.06135462833746425, 'distribution': Bernoulli(p=0.9404896563472046)}\n",
       " 5.: {'address': 'x[2]', 'kind': 'observe', 'value': 1.0, 'logprob': -0.9189385332046727, 'distribution': Normal(loc=1, scale=1.0)}\n",
       " retval=None\n",
       " logprob: -2.653733503644219)"
      ]
     },
     "execution_count": 29,
     "metadata": {},
     "output_type": "execute_result"
    }
   ],
   "source": [
    "hmm([1.,1.,1.])"
   ]
  },
  {
   "cell_type": "code",
   "execution_count": null,
   "metadata": {},
   "outputs": [],
   "source": []
  },
  {
   "cell_type": "code",
   "execution_count": null,
   "metadata": {},
   "outputs": [],
   "source": []
  }
 ],
 "metadata": {
  "kernelspec": {
   "display_name": "Python 3 (ipykernel)",
   "language": "python",
   "name": "python3"
  },
  "language_info": {
   "codemirror_mode": {
    "name": "ipython",
    "version": 3
   },
   "file_extension": ".py",
   "mimetype": "text/x-python",
   "name": "python",
   "nbconvert_exporter": "python",
   "pygments_lexer": "ipython3",
   "version": "3.10.12"
  }
 },
 "nbformat": 4,
 "nbformat_minor": 2
}
