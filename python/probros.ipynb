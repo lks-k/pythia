{
 "cells": [
  {
   "cell_type": "code",
   "execution_count": 1,
   "metadata": {},
   "outputs": [],
   "source": [
    "import random\n",
    "import math\n",
    "import probros as pr"
   ]
  },
  {
   "cell_type": "code",
   "execution_count": 2,
   "metadata": {},
   "outputs": [],
   "source": [
    "random.seed(0)"
   ]
  },
  {
   "cell_type": "markdown",
   "metadata": {},
   "source": [
    "We use the `@pr.trace` decorator to construct a probabilistic program from a python function."
   ]
  },
  {
   "cell_type": "markdown",
   "metadata": {},
   "source": [
    "## BRP model"
   ]
  },
  {
   "cell_type": "code",
   "execution_count": 3,
   "metadata": {},
   "outputs": [],
   "source": [
    "@pr.trace\n",
    "def brp(toSend, maxFailed):\n",
    "    sent = 0\n",
    "    failed = 0\n",
    "    totalFailed = 0\n",
    "\n",
    "    i = 1\n",
    "    while failed < maxFailed and sent < toSend:\n",
    "        b = pr.sample(f\"attempt_transmit_{i}\", pr.Bernoulli(0.1))\n",
    "        if b:\n",
    "            failed = 0\n",
    "            sent = sent + 1\n",
    "        else:\n",
    "            failed = failed + 1\n",
    "            totalFailed = totalFailed + 1\n",
    "        i += 1\n",
    "\n",
    "    return totalFailed"
   ]
  },
  {
   "cell_type": "code",
   "execution_count": 4,
   "metadata": {},
   "outputs": [
    {
     "data": {
      "text/plain": [
       "(3,\n",
       " -0.31608154697347884,\n",
       " Trace(input=((5, 3), {}))\n",
       " 0.: {'address': 'attempt_transmit_1', 'kind': 'sample', 'value': False, 'logprob': -0.10536051565782628, 'distribution': Bernoulli(0.1)}\n",
       " 1.: {'address': 'attempt_transmit_2', 'kind': 'sample', 'value': False, 'logprob': -0.10536051565782628, 'distribution': Bernoulli(0.1)}\n",
       " 2.: {'address': 'attempt_transmit_3', 'kind': 'sample', 'value': False, 'logprob': -0.10536051565782628, 'distribution': Bernoulli(0.1)}\n",
       " retval=3logprob: -0.31608154697347884)"
      ]
     },
     "execution_count": 4,
     "metadata": {},
     "output_type": "execute_result"
    }
   ],
   "source": [
    "brp(5, 3) # trace has variable number of random value draws"
   ]
  },
  {
   "cell_type": "code",
   "execution_count": 5,
   "metadata": {},
   "outputs": [],
   "source": [
    "@pr.trace\n",
    "def brp(toSend, maxFailed):\n",
    "    sent = 0\n",
    "    failed = 0\n",
    "    totalFailed = 0\n",
    "\n",
    "    while failed < maxFailed and sent < toSend:\n",
    "        b = pr.sample(f\"attempt_transmit\", pr.Bernoulli(0.1))\n",
    "        if b:\n",
    "            failed = 0\n",
    "            sent = sent + 1\n",
    "        else:\n",
    "            failed = failed + 1\n",
    "            totalFailed = totalFailed + 1\n",
    "\n",
    "    return totalFailed"
   ]
  },
  {
   "cell_type": "code",
   "execution_count": 6,
   "metadata": {},
   "outputs": [
    {
     "data": {
      "text/plain": [
       "(3,\n",
       " -0.31608154697347884,\n",
       " Trace(input=((5, 3), {}))\n",
       " 0.: {'address': 'attempt_transmit', 'kind': 'sample', 'value': False, 'logprob': -0.10536051565782628, 'distribution': Bernoulli(0.1)}\n",
       " 1.: {'address': 'attempt_transmit', 'kind': 'sample', 'value': False, 'logprob': -0.10536051565782628, 'distribution': Bernoulli(0.1)}\n",
       " 2.: {'address': 'attempt_transmit', 'kind': 'sample', 'value': False, 'logprob': -0.10536051565782628, 'distribution': Bernoulli(0.1)}\n",
       " retval=3logprob: -0.31608154697347884)"
      ]
     },
     "execution_count": 6,
     "metadata": {},
     "output_type": "execute_result"
    }
   ],
   "source": [
    "brp(5, 3) # now addresses need not be unique"
   ]
  },
  {
   "cell_type": "markdown",
   "metadata": {},
   "source": [
    "## Coin flip model\n",
    "\n",
    "We want to infer if a coin is biased.\n",
    "\n",
    "What is the true probability of flipping the heads (== 1).\n",
    "\n",
    "We have observed following flips 0,0,1,1,1."
   ]
  },
  {
   "cell_type": "code",
   "execution_count": 7,
   "metadata": {},
   "outputs": [],
   "source": [
    "@pr.trace\n",
    "def coin_flips(data):\n",
    "    p = pr.sample(\"p\", pr.Uniform(0, 1))\n",
    "    for i in range(len(data)):\n",
    "        pr.observe(data[i], f\"flip_{i}\", pr.Bernoulli(p))\n",
    "    return p"
   ]
  },
  {
   "cell_type": "code",
   "execution_count": 8,
   "metadata": {},
   "outputs": [
    {
     "data": {
      "text/plain": [
       "(0.7837985890347726,\n",
       " -3.7938992753233527,\n",
       " Trace(input=(([0, 0, 1, 1, 1],), {}))\n",
       " 0.: {'address': 'p', 'kind': 'sample', 'value': 0.7837985890347726, 'logprob': -0.0, 'distribution': Uniform(0, 1)}\n",
       " 1.: {'address': 'flip_0', 'kind': 'observe', 'value': 0, 'logprob': -1.531544847594683, 'distribution': Bernoulli(0.7837985890347726)}\n",
       " 2.: {'address': 'flip_1', 'kind': 'observe', 'value': 0, 'logprob': -1.531544847594683, 'distribution': Bernoulli(0.7837985890347726)}\n",
       " 3.: {'address': 'flip_2', 'kind': 'observe', 'value': 1, 'logprob': -0.24360319337799582, 'distribution': Bernoulli(0.7837985890347726)}\n",
       " 4.: {'address': 'flip_3', 'kind': 'observe', 'value': 1, 'logprob': -0.24360319337799582, 'distribution': Bernoulli(0.7837985890347726)}\n",
       " 5.: {'address': 'flip_4', 'kind': 'observe', 'value': 1, 'logprob': -0.24360319337799582, 'distribution': Bernoulli(0.7837985890347726)}\n",
       " retval=0.7837985890347726logprob: -3.7938992753233527)"
      ]
     },
     "execution_count": 8,
     "metadata": {},
     "output_type": "execute_result"
    }
   ],
   "source": [
    "data = [0,0,1,1,1]\n",
    "coin_flips(data)"
   ]
  },
  {
   "cell_type": "markdown",
   "metadata": {},
   "source": [
    "Running the model corresponds to:\n",
    "- `sample` a value for `p`,\n",
    "- add to log probability `logprob += logpdf(Uniform(0,1), p)`\n",
    "- `observe` each data point `data[i]`\n",
    "- add to the log probability `logprob += logpdf(Bernoulli(p), data[i])` (depends on `p`)\n",
    "- return `p`, `logprob`, and trace\n",
    "\n",
    "\n",
    "`logprob = logpdf(Uniform(0,1), p) + logpdf(Bernoulli(p), data[0]) + logpdf(Bernoulli(p), data[1]) + logpdf(Bernoulli(p), data[2]) + logpdf(Bernoulli(p), data[3]) + logpdf(Bernoulli(p), data[4])`\n",
    "\n",
    "Thus,\n",
    "\n",
    "`exp(logprob) = Prob(p,flip_0=0,flip_1=0,flip_2=1,flip_3=1,flip_4=1) = Prob(p, Y=data)`\n",
    "\n",
    "The posterior is proportional to the joint:\n",
    "\n",
    "`Prob(p|Y=data) = Prob(p, Y=data) / Prob(Y=data)`"
   ]
  },
  {
   "cell_type": "code",
   "execution_count": 9,
   "metadata": {},
   "outputs": [
    {
     "data": {
      "text/plain": [
       "(0.30331272607892745,\n",
       " -4.301810006027625,\n",
       " Trace(input=(([0, 0, 1, 1, 1],), {}))\n",
       " 0.: {'address': 'p', 'kind': 'sample', 'value': 0.30331272607892745, 'logprob': -0.0, 'distribution': Uniform(0, 1)}\n",
       " 1.: {'address': 'flip', 'kind': 'observe', 'value': [0, 0, 1, 1, 1], 'logprob': -4.301810006027625, 'distribution': IID(Bernoulli(0.30331272607892745), 5)}\n",
       " retval=0.30331272607892745logprob: -4.301810006027625)"
      ]
     },
     "execution_count": 9,
     "metadata": {},
     "output_type": "execute_result"
    }
   ],
   "source": [
    "# same model but explicitly vectorised\n",
    "@pr.trace\n",
    "def coin_flips(data):\n",
    "    p = pr.sample(\"p\", pr.Uniform(0, 1))\n",
    "    pr.observe(data, \"flip\", pr.IID(pr.Bernoulli(p), len(data)))\n",
    "    return p\n",
    "coin_flips(data)"
   ]
  },
  {
   "cell_type": "code",
   "execution_count": 10,
   "metadata": {},
   "outputs": [
    {
     "data": {
      "text/plain": [
       "(0.4765969541523558,\n",
       " -3.5180592544722904,\n",
       " Trace(input=(([0, 0, 1, 1, 1],), {}))\n",
       " 0.: {'address': 'p', 'kind': 'sample', 'value': 0.4765969541523558, 'logprob': -0.0, 'distribution': Uniform(0, 1)}\n",
       " 1.: {'address': 'flip', 'kind': 'observe', 'value': [0, 0, 1, 1, 1], 'logprob': -3.5180592544722904, 'distribution': Bernoulli(0.4765969541523558)}\n",
       " retval=0.4765969541523558logprob: -3.5180592544722904)"
      ]
     },
     "execution_count": 10,
     "metadata": {},
     "output_type": "execute_result"
    }
   ],
   "source": [
    "# same model but implicitly vectorised\n",
    "@pr.trace\n",
    "def coin_flips(data):\n",
    "    p = pr.sample(\"p\", pr.Uniform(0, 1))\n",
    "    pr.observe(data, \"flip\", pr.Bernoulli(p))\n",
    "    return p\n",
    "coin_flips(data)"
   ]
  },
  {
   "cell_type": "code",
   "execution_count": 11,
   "metadata": {},
   "outputs": [
    {
     "data": {
      "image/png": "[encoded data removed]",
      "text/plain": [
       "<Figure size 800x400 with 2 Axes>"
      ]
     },
     "metadata": {},
     "output_type": "display_data"
    }
   ],
   "source": [
    "# We can make a few draws, and plot the result\n",
    "import matplotlib.pyplot as plt\n",
    "import numpy as np\n",
    "from scipy.stats import beta \n",
    "samples = [coin_flips(data)[:2] for _ in range(1000)]\n",
    "samples = sorted(samples)\n",
    "\n",
    "fig, ax = plt.subplots(1, 2, figsize=(8,4))\n",
    "ps = np.array([s[0] for s in samples])\n",
    "logprobs = np.array([s[1] for s in samples])\n",
    "ax[0].plot(ps, np.exp(logprobs))\n",
    "ax[0].set_xlabel(\"p\")\n",
    "ax[0].set_ylabel(\"Unnormalized Probability\")\n",
    "ax[0].set_title(\"Joint Probability Density Prob(p, Y=data)\")\n",
    "ax[1].plot(ps, beta.pdf(ps, 3+1,2+1), c=\"tab:orange\")\n",
    "ax[1].set_xlabel(\"p\")\n",
    "ax[1].set_ylabel(\"Normalized probability\")\n",
    "ax[1].set_title(\"True Posterior Density\")\n",
    "plt.show()"
   ]
  },
  {
   "cell_type": "code",
   "execution_count": 12,
   "metadata": {},
   "outputs": [
    {
     "data": {
      "text/plain": [
       "0.016666660618663735"
      ]
     },
     "execution_count": 12,
     "metadata": {},
     "output_type": "execute_result"
    }
   ],
   "source": [
    "# Indeed the area under the curve does not equal 1 -> unnormalized\n",
    "np.trapz(np.exp(logprobs), ps)"
   ]
  },
  {
   "cell_type": "markdown",
   "metadata": {},
   "source": [
    "We can also equivalently formulate the model in terms of a factor.\n",
    "\n",
    "Essentially, observe statements are factors: `factor(distribution.logprob(value)) ~ observe(value, distribution)`."
   ]
  },
  {
   "cell_type": "code",
   "execution_count": 13,
   "metadata": {},
   "outputs": [],
   "source": [
    "@pr.trace\n",
    "def coin_flips_factor(data):\n",
    "    p = pr.sample(\"p\", pr.Uniform(0, 1))\n",
    "    f = 0.\n",
    "    for i in range(len(data)):\n",
    "        f += math.log(p if data[i] == 1 else 1-p)\n",
    "    pr.factor(f)\n",
    "    return p"
   ]
  },
  {
   "cell_type": "code",
   "execution_count": 14,
   "metadata": {},
   "outputs": [
    {
     "data": {
      "text/plain": [
       "(0.16985884355967462,\n",
       " -5.690681605853097,\n",
       " Trace(input=(([0, 0, 1, 1, 1],), {}))\n",
       " 0.: {'address': 'p', 'kind': 'sample', 'value': 0.16985884355967462, 'logprob': -0.0, 'distribution': Uniform(0, 1)}\n",
       " 1.: {'address': 'factor:1', 'kind': 'factor', 'logprob': -5.690681605853097}\n",
       " retval=0.16985884355967462logprob: -5.690681605853097)"
      ]
     },
     "execution_count": 14,
     "metadata": {},
     "output_type": "execute_result"
    }
   ],
   "source": [
    "coin_flips_factor(data)"
   ]
  },
  {
   "cell_type": "code",
   "execution_count": 15,
   "metadata": {},
   "outputs": [
    {
     "data": {
      "image/png": "[encoded data removed]",
      "text/plain": [
       "<Figure size 400x400 with 1 Axes>"
      ]
     },
     "metadata": {},
     "output_type": "display_data"
    },
    {
     "data": {
      "text/plain": [
       "0.01666665161960825"
      ]
     },
     "execution_count": 15,
     "metadata": {},
     "output_type": "execute_result"
    }
   ],
   "source": [
    "samples = [coin_flips_factor(data)[:2] for _ in range(1000)]\n",
    "samples = sorted(samples)\n",
    "\n",
    "fig, ax = plt.subplots(1, 1, figsize=(4,4))\n",
    "ps = np.array([s[0] for s in samples])\n",
    "logprobs = np.array([s[1] for s in samples])\n",
    "ax.plot(ps, np.exp(logprobs))\n",
    "ax.set_xlabel(\"p\")\n",
    "ax.set_ylabel(\"Unnormalized Probability\")\n",
    "plt.show()\n",
    "np.trapz(np.exp(logprobs), ps)"
   ]
  },
  {
   "cell_type": "markdown",
   "metadata": {},
   "source": [
    "## Linear Regression Model\n",
    "\n",
    "In more complicated models, where we have more than 1 latent variable, it is not as simple to compute the normalization constant as above.\n",
    "\n",
    "Therefore, you need more sophisticated inference algorithms to approximate the posterior.\n",
    "\n",
    "However, I think this is not the scope of our package.\n",
    "\n",
    "Simply producing samples by running the model should be enough.\n",
    "\n",
    "For instance, consider a linear regression model with 3 latents:"
   ]
  },
  {
   "cell_type": "code",
   "execution_count": 16,
   "metadata": {},
   "outputs": [],
   "source": [
    "@pr.trace\n",
    "def linear_regression(x, y):\n",
    "    slope = pr.sample(\"slope\", pr.Normal(0, 10))\n",
    "    intercept = pr.sample(\"intercept\", pr.Normal(0, 10))\n",
    "    sigma = pr.sample(\"sigma\", pr.Uniform(0.1, 5))\n",
    "\n",
    "    for i in range(len(x)):\n",
    "        pr.observe(y[i], f\"y_{i}\", pr.Normal(slope * x[i] + intercept, sigma))\n",
    "\n",
    "    return slope, intercept, sigma"
   ]
  },
  {
   "cell_type": "code",
   "execution_count": 17,
   "metadata": {},
   "outputs": [
    {
     "data": {
      "text/plain": [
       "((13.986409252669345, -16.6473176546791, 0.36537338671876685),\n",
       " -12493.423282367683)"
      ]
     },
     "execution_count": 17,
     "metadata": {},
     "output_type": "execute_result"
    }
   ],
   "source": [
    "x = [1,2,3,4,5]\n",
    "y = [2.1, 3.9, 5.3, 7.7, 10.2]\n",
    "(slope, intercept, sigma), logprob, _ = linear_regression(x,y)\n",
    "(slope, intercept, sigma), logprob"
   ]
  },
  {
   "cell_type": "markdown",
   "metadata": {},
   "source": [
    "## Discrete Model\n",
    "\n",
    "Lastly, we consider a discrete model, with observe statements that assert that some program variables are true.\n",
    "\n",
    "`pr.observe(called, \"called\") # == observe(called, \"called\", Dirac(True))`\n",
    "\n",
    "This results in many traces having log-probability -inf."
   ]
  },
  {
   "cell_type": "code",
   "execution_count": 18,
   "metadata": {},
   "outputs": [],
   "source": [
    "@pr.trace\n",
    "def Burglary():\n",
    "    earthquake = pr.sample(\"earthquake\", pr.Bernoulli(0.0001))\n",
    "    burglary = pr.sample(\"burglary\", pr.Bernoulli(0.001))\n",
    "    alarm = earthquake or burglary\n",
    "    if earthquake:\n",
    "        phoneWorking = pr.sample(\"phoneWorking\", pr.Bernoulli(0.7))\n",
    "    else:\n",
    "        phoneWorking = pr.sample(\"phoneWorking\", pr.Bernoulli(0.99))\n",
    "    if alarm:\n",
    "        if earthquake:\n",
    "            maryWakes = pr.sample(\"maryWakes\", pr.Bernoulli(0.8))\n",
    "        else:\n",
    "            maryWakes = pr.sample(\"maryWakes\", pr.Bernoulli(0.6))\n",
    "    else:\n",
    "        maryWakes = pr.sample(\"maryWakes\", pr.Bernoulli(0.2))\n",
    "\n",
    "    called = maryWakes and phoneWorking\n",
    "    pr.observe(called, \"called\") # == observe(called, \"called\", Dirac(True))\n",
    "\n",
    "    return burglary"
   ]
  },
  {
   "cell_type": "code",
   "execution_count": 19,
   "metadata": {},
   "outputs": [
    {
     "data": {
      "text/plain": [
       "(False,\n",
       " -inf,\n",
       " Trace(input=((), {}))\n",
       " 0.: {'address': 'earthquake', 'kind': 'sample', 'value': False, 'logprob': -0.00010000500033334732, 'distribution': Bernoulli(0.0001)}\n",
       " 1.: {'address': 'burglary', 'kind': 'sample', 'value': False, 'logprob': -0.0010005003335835344, 'distribution': Bernoulli(0.001)}\n",
       " 2.: {'address': 'phoneWorking', 'kind': 'sample', 'value': True, 'logprob': -0.01005033585350145, 'distribution': Bernoulli(0.99)}\n",
       " 3.: {'address': 'maryWakes', 'kind': 'sample', 'value': False, 'logprob': -0.2231435513142097, 'distribution': Bernoulli(0.2)}\n",
       " 4.: {'address': 'called', 'kind': 'observe', 'value': False, 'logprob': -inf, 'distribution': Dirac(True)}\n",
       " retval=Falselogprob: -inf)"
      ]
     },
     "execution_count": 19,
     "metadata": {},
     "output_type": "execute_result"
    }
   ],
   "source": [
    "Burglary()"
   ]
  },
  {
   "cell_type": "markdown",
   "metadata": {},
   "source": [
    "We would have to run this model with rejection sampling.\n",
    "\n",
    "Running this function leads to probability 0 traces in over 75% of cases.\n",
    "\n",
    "Or you would need more powerful inference algorithms, but for our purposes - sanity checking - I think just producing samples is enough."
   ]
  },
  {
   "cell_type": "code",
   "execution_count": 20,
   "metadata": {},
   "outputs": [
    {
     "data": {
      "text/plain": [
       "0.798"
      ]
     },
     "execution_count": 20,
     "metadata": {},
     "output_type": "execute_result"
    }
   ],
   "source": [
    "samples = [Burglary()[:2] for _ in range(1000)]\n",
    "logprobs = np.array([s[1] for s in samples])\n",
    "np.mean(np.exp(logprobs) == 0)"
   ]
  },
  {
   "cell_type": "markdown",
   "metadata": {},
   "source": [
    "## Translating to other languages\n",
    "\n",
    "I just had a quick idea to reuse the `Unparser` from the `ast` module.\n",
    "\n",
    "But I have not put much thought into this.\n",
    "\n",
    "Also Python 3.10 has `match` statements.\n",
    "\n",
    "For this demo, I only translate the sample and observe statements to Turing syntax and leave all other Python syntax unchanged."
   ]
  },
  {
   "cell_type": "code",
   "execution_count": 21,
   "metadata": {},
   "outputs": [],
   "source": [
    "import ast\n",
    "\n",
    "class TuringTranslator(ast._Unparser):\n",
    "    def _write_arguments(self, args, keywords):\n",
    "        with self.delimit(\"(\", \")\"):\n",
    "            comma = False\n",
    "            for e in args:\n",
    "                if comma:\n",
    "                    self.write(\", \")\n",
    "                else:\n",
    "                    comma = True\n",
    "                self.traverse(e)\n",
    "            for e in keywords:\n",
    "                if comma:\n",
    "                    self.write(\", \")\n",
    "                else:\n",
    "                    comma = True\n",
    "                self.traverse(e)\n",
    "\n",
    "    def visit_Assign(self, node):\n",
    "        match node:\n",
    "            case ast.Assign(\n",
    "                targets=[prog_name],\n",
    "                value=ast.Call(\n",
    "                    func=ast.Attribute(value=ast.Name(id=\"pr\"), attr=\"sample\"),\n",
    "                    args=[\n",
    "                        address,\n",
    "                        ast.Call(func=ast.Attribute(value=ast.Name(id=\"pr\"), attr=distribution_name), args=args, keywords=keywords)\n",
    "                    ]\n",
    "                )\n",
    "            ):\n",
    "                self.fill()\n",
    "                self.traverse(prog_name)\n",
    "                self.write(\" ~ \")\n",
    "                self.write(distribution_name)\n",
    "                self._write_arguments(args, keywords)\n",
    "\n",
    "            case _:\n",
    "                super().visit_Assign(node)\n",
    "\n",
    "    def visit_Call(self, node):\n",
    "        match node:\n",
    "            case ast.Call(\n",
    "                func=ast.Attribute(value=ast.Name(id=\"pr\"), attr=\"observe\"),\n",
    "                    args=[\n",
    "                        value,\n",
    "                        address,\n",
    "                        ast.Call(func=ast.Attribute(value=ast.Name(id=\"pr\"), attr=distribution_name), args=args, keywords=keywords)\n",
    "                    ]\n",
    "            ):\n",
    "                self.traverse(value)\n",
    "                self.write(\" ~ \")\n",
    "                self.write(distribution_name)\n",
    "                self._write_arguments(args, keywords)\n",
    "\n",
    "            case _:\n",
    "                super().visit_Call(node)"
   ]
  },
  {
   "cell_type": "code",
   "execution_count": 22,
   "metadata": {},
   "outputs": [],
   "source": [
    "source_code = \"\"\"\n",
    "@pr.trace\n",
    "def coin_flips(data):\n",
    "    p = pr.sample(\"p\", pr.Uniform(0, 1))\n",
    "    for i in range(len(data)):\n",
    "        pr.observe(data[i], f\"flip_{i}\", pr.Bernoulli(p))\n",
    "    return p\n",
    "\"\"\""
   ]
  },
  {
   "cell_type": "code",
   "execution_count": 23,
   "metadata": {},
   "outputs": [
    {
     "name": "stdout",
     "output_type": "stream",
     "text": [
      "@pr.trace\n",
      "def coin_flips(data):\n",
      "    p ~ Uniform(0, 1)\n",
      "    for i in range(len(data)):\n",
      "        data[i] ~ Bernoulli(p)\n",
      "    return p\n"
     ]
    }
   ],
   "source": [
    "source_tree = ast.parse(source_code)\n",
    "result = TuringTranslator().visit(source_tree)\n",
    "print(result)"
   ]
  },
  {
   "cell_type": "code",
   "execution_count": null,
   "metadata": {},
   "outputs": [],
   "source": []
  }
 ],
 "metadata": {
  "kernelspec": {
   "display_name": "Python 3 (ipykernel)",
   "language": "python",
   "name": "python3"
  },
  "language_info": {
   "codemirror_mode": {
    "name": "ipython",
    "version": 3
   },
   "file_extension": ".py",
   "mimetype": "text/x-python",
   "name": "python",
   "nbconvert_exporter": "python",
   "pygments_lexer": "ipython3",
   "version": "3.10.12"
  }
 },
 "nbformat": 4,
 "nbformat_minor": 2
}
