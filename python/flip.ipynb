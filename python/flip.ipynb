{
 "cells": [
  {
   "cell_type": "code",
   "execution_count": 1,
   "id": "3c55830f-618e-4d17-a73b-85598dd96e0b",
   "metadata": {},
   "outputs": [],
   "source": [
    "import probros as pr"
   ]
  },
  {
   "cell_type": "code",
   "execution_count": 3,
   "id": "af5d29a8-bc7f-4489-bc4f-1d48d9d30d13",
   "metadata": {},
   "outputs": [],
   "source": [
    "@pr.trace\n",
    "def flip():\n",
    "  if pr.sample(\"coin\", pr.Bernoulli(.5)): \n",
    "      x = 0 \n",
    "  else: \n",
    "      x = 1\n",
    "  return x"
   ]
  },
  {
   "cell_type": "code",
   "execution_count": 4,
   "id": "3e0f8091-4f9f-4608-82dc-1f36e7c2707f",
   "metadata": {},
   "outputs": [
    {
     "data": {
      "text/plain": [
       "(1,\n",
       " -0.6931471805599453,\n",
       " Trace(input=((), {}))\n",
       " 0.: {'address': 'coin', 'kind': 'sample', 'value': False, 'logprob': -0.6931471805599453, 'distribution': Bernoulli(0.5)}\n",
       " retval=1logprob: -0.6931471805599453)"
      ]
     },
     "execution_count": 4,
     "metadata": {},
     "output_type": "execute_result"
    }
   ],
   "source": [
    "flip()"
   ]
  },
  {
   "cell_type": "code",
   "execution_count": null,
   "id": "22235ab0-84c7-4266-bef4-9fbef0623664",
   "metadata": {},
   "outputs": [],
   "source": []
  }
 ],
 "metadata": {
  "kernelspec": {
   "display_name": "Python 3 (ipykernel)",
   "language": "python",
   "name": "python3"
  },
  "language_info": {
   "codemirror_mode": {
    "name": "ipython",
    "version": 3
   },
   "file_extension": ".py",
   "mimetype": "text/x-python",
   "name": "python",
   "nbconvert_exporter": "python",
   "pygments_lexer": "ipython3",
   "version": "3.11.4"
  }
 },
 "nbformat": 4,
 "nbformat_minor": 5
}
